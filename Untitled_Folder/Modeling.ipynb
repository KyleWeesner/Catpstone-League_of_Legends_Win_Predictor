{
 "cells": [
  {
   "cell_type": "markdown",
   "id": "ade38cf1",
   "metadata": {},
   "source": [
    "# Model Building"
   ]
  },
  {
   "cell_type": "markdown",
   "id": "5fab680c",
   "metadata": {},
   "source": [
    "import libraries"
   ]
  },
  {
   "cell_type": "code",
   "execution_count": 134,
   "id": "8289bbb9",
   "metadata": {},
   "outputs": [],
   "source": [
    "import pandas as pd\n",
    "import numpy as np\n",
    "from matplotlib import pyplot as plt\n",
    "import seaborn as sns\n",
    "import pickle\n",
    "\n",
    "from sklearn.model_selection import train_test_split, GridSearchCV, cross_val_score\n",
    "from sklearn.preprocessing import StandardScaler\n",
    "from sklearn.compose import ColumnTransformer\n",
    "from sklearn.linear_model import LogisticRegression\n",
    "from sklearn.ensemble import RandomForestClassifier, GradientBoostingClassifier, ExtraTreesClassifier, StackingClassifier\n",
    "from sklearn.metrics import plot_confusion_matrix, accuracy_score, recall_score, precision_score, f1_score\n",
    "from sklearn.dummy import DummyClassifier\n",
    "from sklearn.neighbors import KNeighborsClassifier\n",
    "from sklearn.tree import DecisionTreeClassifier\n",
    "from sklearn.pipeline import Pipeline\n",
    "\n",
    "import warnings\n",
    "warnings.filterwarnings(\"ignore\")"
   ]
  },
  {
   "cell_type": "markdown",
   "id": "a8e6ddb8",
   "metadata": {},
   "source": [
    "Making a two dataframes:\n",
    "1. model building\n",
    "2. looking at multicolinearity"
   ]
  },
  {
   "cell_type": "code",
   "execution_count": 18,
   "id": "fe32a527",
   "metadata": {},
   "outputs": [
    {
     "data": {
      "text/html": [
       "<div>\n",
       "<style scoped>\n",
       "    .dataframe tbody tr th:only-of-type {\n",
       "        vertical-align: middle;\n",
       "    }\n",
       "\n",
       "    .dataframe tbody tr th {\n",
       "        vertical-align: top;\n",
       "    }\n",
       "\n",
       "    .dataframe thead th {\n",
       "        text-align: right;\n",
       "    }\n",
       "</style>\n",
       "<table border=\"1\" class=\"dataframe\">\n",
       "  <thead>\n",
       "    <tr style=\"text-align: right;\">\n",
       "      <th></th>\n",
       "      <th>matchId</th>\n",
       "      <th>blue_team_kills</th>\n",
       "      <th>red_team_kills</th>\n",
       "      <th>blue_team_visionScore</th>\n",
       "      <th>red_team_visionScore</th>\n",
       "      <th>blue_team_assists</th>\n",
       "      <th>red_team_assists</th>\n",
       "      <th>blue_team_cs</th>\n",
       "      <th>red_team_cs</th>\n",
       "      <th>blue_team_level</th>\n",
       "      <th>...</th>\n",
       "      <th>red_FIRE_DRAGON</th>\n",
       "      <th>blue_HEXTECH_DRAGON</th>\n",
       "      <th>red_HEXTECH_DRAGON</th>\n",
       "      <th>blue_WATER_DRAGON</th>\n",
       "      <th>red_WATER_DRAGON</th>\n",
       "      <th>blue_inhibitors_destroyed</th>\n",
       "      <th>red_inhibitors_destroyed</th>\n",
       "      <th>blue_towers_destroyed</th>\n",
       "      <th>red_towers_destroyed</th>\n",
       "      <th>win</th>\n",
       "    </tr>\n",
       "  </thead>\n",
       "  <tbody>\n",
       "    <tr>\n",
       "      <th>0</th>\n",
       "      <td>NA1_4307254820</td>\n",
       "      <td>14.0</td>\n",
       "      <td>10.0</td>\n",
       "      <td>32.0</td>\n",
       "      <td>28.0</td>\n",
       "      <td>11.0</td>\n",
       "      <td>9.0</td>\n",
       "      <td>416</td>\n",
       "      <td>453</td>\n",
       "      <td>46</td>\n",
       "      <td>...</td>\n",
       "      <td>0</td>\n",
       "      <td>0</td>\n",
       "      <td>0</td>\n",
       "      <td>1</td>\n",
       "      <td>0</td>\n",
       "      <td>0</td>\n",
       "      <td>0</td>\n",
       "      <td>1</td>\n",
       "      <td>2</td>\n",
       "      <td>Blue</td>\n",
       "    </tr>\n",
       "    <tr>\n",
       "      <th>1</th>\n",
       "      <td>NA1_4145811121</td>\n",
       "      <td>18.0</td>\n",
       "      <td>27.0</td>\n",
       "      <td>33.0</td>\n",
       "      <td>37.0</td>\n",
       "      <td>13.0</td>\n",
       "      <td>23.0</td>\n",
       "      <td>363</td>\n",
       "      <td>450</td>\n",
       "      <td>47</td>\n",
       "      <td>...</td>\n",
       "      <td>0</td>\n",
       "      <td>0</td>\n",
       "      <td>0</td>\n",
       "      <td>0</td>\n",
       "      <td>1</td>\n",
       "      <td>0</td>\n",
       "      <td>0</td>\n",
       "      <td>3</td>\n",
       "      <td>0</td>\n",
       "      <td>Red</td>\n",
       "    </tr>\n",
       "    <tr>\n",
       "      <th>2</th>\n",
       "      <td>NA1_4111806763</td>\n",
       "      <td>18.0</td>\n",
       "      <td>17.0</td>\n",
       "      <td>33.0</td>\n",
       "      <td>32.0</td>\n",
       "      <td>22.0</td>\n",
       "      <td>13.0</td>\n",
       "      <td>404</td>\n",
       "      <td>403</td>\n",
       "      <td>47</td>\n",
       "      <td>...</td>\n",
       "      <td>0</td>\n",
       "      <td>0</td>\n",
       "      <td>0</td>\n",
       "      <td>0</td>\n",
       "      <td>1</td>\n",
       "      <td>0</td>\n",
       "      <td>0</td>\n",
       "      <td>2</td>\n",
       "      <td>1</td>\n",
       "      <td>Blue</td>\n",
       "    </tr>\n",
       "    <tr>\n",
       "      <th>3</th>\n",
       "      <td>NA1_4267117332</td>\n",
       "      <td>7.0</td>\n",
       "      <td>19.0</td>\n",
       "      <td>24.0</td>\n",
       "      <td>29.0</td>\n",
       "      <td>6.0</td>\n",
       "      <td>21.0</td>\n",
       "      <td>411</td>\n",
       "      <td>400</td>\n",
       "      <td>44</td>\n",
       "      <td>...</td>\n",
       "      <td>0</td>\n",
       "      <td>0</td>\n",
       "      <td>1</td>\n",
       "      <td>0</td>\n",
       "      <td>0</td>\n",
       "      <td>0</td>\n",
       "      <td>0</td>\n",
       "      <td>2</td>\n",
       "      <td>0</td>\n",
       "      <td>Red</td>\n",
       "    </tr>\n",
       "    <tr>\n",
       "      <th>4</th>\n",
       "      <td>NA1_4291432747</td>\n",
       "      <td>12.0</td>\n",
       "      <td>7.0</td>\n",
       "      <td>32.0</td>\n",
       "      <td>37.0</td>\n",
       "      <td>13.0</td>\n",
       "      <td>4.0</td>\n",
       "      <td>461</td>\n",
       "      <td>490</td>\n",
       "      <td>48</td>\n",
       "      <td>...</td>\n",
       "      <td>0</td>\n",
       "      <td>0</td>\n",
       "      <td>1</td>\n",
       "      <td>0</td>\n",
       "      <td>1</td>\n",
       "      <td>0</td>\n",
       "      <td>0</td>\n",
       "      <td>1</td>\n",
       "      <td>2</td>\n",
       "      <td>Blue</td>\n",
       "    </tr>\n",
       "  </tbody>\n",
       "</table>\n",
       "<p>5 rows × 30 columns</p>\n",
       "</div>"
      ],
      "text/plain": [
       "          matchId  blue_team_kills  red_team_kills  blue_team_visionScore  \\\n",
       "0  NA1_4307254820             14.0            10.0                   32.0   \n",
       "1  NA1_4145811121             18.0            27.0                   33.0   \n",
       "2  NA1_4111806763             18.0            17.0                   33.0   \n",
       "3  NA1_4267117332              7.0            19.0                   24.0   \n",
       "4  NA1_4291432747             12.0             7.0                   32.0   \n",
       "\n",
       "   red_team_visionScore  blue_team_assists  red_team_assists  blue_team_cs  \\\n",
       "0                  28.0               11.0               9.0           416   \n",
       "1                  37.0               13.0              23.0           363   \n",
       "2                  32.0               22.0              13.0           404   \n",
       "3                  29.0                6.0              21.0           411   \n",
       "4                  37.0               13.0               4.0           461   \n",
       "\n",
       "   red_team_cs  blue_team_level  ...  red_FIRE_DRAGON  blue_HEXTECH_DRAGON  \\\n",
       "0          453               46  ...                0                    0   \n",
       "1          450               47  ...                0                    0   \n",
       "2          403               47  ...                0                    0   \n",
       "3          400               44  ...                0                    0   \n",
       "4          490               48  ...                0                    0   \n",
       "\n",
       "   red_HEXTECH_DRAGON  blue_WATER_DRAGON  red_WATER_DRAGON  \\\n",
       "0                   0                  1                 0   \n",
       "1                   0                  0                 1   \n",
       "2                   0                  0                 1   \n",
       "3                   1                  0                 0   \n",
       "4                   1                  0                 1   \n",
       "\n",
       "   blue_inhibitors_destroyed  red_inhibitors_destroyed  blue_towers_destroyed  \\\n",
       "0                          0                         0                      1   \n",
       "1                          0                         0                      3   \n",
       "2                          0                         0                      2   \n",
       "3                          0                         0                      2   \n",
       "4                          0                         0                      1   \n",
       "\n",
       "   red_towers_destroyed   win  \n",
       "0                     2  Blue  \n",
       "1                     0   Red  \n",
       "2                     1  Blue  \n",
       "3                     0   Red  \n",
       "4                     2  Blue  \n",
       "\n",
       "[5 rows x 30 columns]"
      ]
     },
     "execution_count": 18,
     "metadata": {},
     "output_type": "execute_result"
    }
   ],
   "source": [
    "#loading in data that will be used in model building\n",
    "df = pd.read_csv('../data/full.csv', index_col=0) \n",
    "\n",
    "#made a copy to replace win column\n",
    "df_copy = df.copy() \n",
    "#.corr() needs to be in numericals for pearson correlation coef.\n",
    "df_copy['win'] = df_copy.win.replace('Blue', 0).replace('Red',1) \n",
    "df.head()"
   ]
  },
  {
   "cell_type": "code",
   "execution_count": 19,
   "id": "3064d0d5",
   "metadata": {},
   "outputs": [
    {
     "data": {
      "text/plain": [
       "<AxesSubplot:>"
      ]
     },
     "execution_count": 19,
     "metadata": {},
     "output_type": "execute_result"
    },
    {
     "data": {
      "image/png": "[encoded data removed]",
      "text/plain": [
       "<Figure size 432x288 with 2 Axes>"
      ]
     },
     "metadata": {
      "needs_background": "light"
     },
     "output_type": "display_data"
    }
   ],
   "source": [
    "sns.heatmap(abs(df_copy.corr()))"
   ]
  },
  {
   "cell_type": "markdown",
   "id": "27befdc4",
   "metadata": {},
   "source": [
    "For loop for looking at features with pearson correlation coefficents over .7 in the Dataframe.  All of the below highly correlated features are expected.  So nothing worth dropping. Kill and Assists generally are proportial with eachother but they can provide further insight on how coordinated the team is playing with eachother.  Playing as a team can be very beneficial in this game.  Other highly correlated columns were features from one team to another so no need to drop them.  "
   ]
  },
  {
   "cell_type": "code",
   "execution_count": 20,
   "id": "13b206eb",
   "metadata": {},
   "outputs": [
    {
     "data": {
      "text/plain": [
       "[(0.7572399664318488,\n",
       "  'blue_team_kills',\n",
       "  Index(['blue_team_assists'], dtype='object')),\n",
       " (0.7520552210400305,\n",
       "  'red_team_kills',\n",
       "  Index(['red_team_assists'], dtype='object')),\n",
       " (0.7572399664318488,\n",
       "  'blue_team_assists',\n",
       "  Index(['blue_team_kills'], dtype='object')),\n",
       " (0.7520552210400305,\n",
       "  'red_team_assists',\n",
       "  Index(['red_team_kills'], dtype='object')),\n",
       " (0.7869945472382852,\n",
       "  'blue_dragons_slained',\n",
       "  Index(['red_dragons_slained'], dtype='object')),\n",
       " (0.7869945472382852,\n",
       "  'red_dragons_slained',\n",
       "  Index(['blue_dragons_slained'], dtype='object')),\n",
       " (0.7804621755586502,\n",
       "  'blue_rift_heralds_slained',\n",
       "  Index(['red_rifts_heralds_slained'], dtype='object')),\n",
       " (0.7804621755586502,\n",
       "  'red_rifts_heralds_slained',\n",
       "  Index(['blue_rift_heralds_slained'], dtype='object'))]"
      ]
     },
     "execution_count": 20,
     "metadata": {},
     "output_type": "execute_result"
    }
   ],
   "source": [
    "df_corr = abs(df_copy.corr())\n",
    "\n",
    "highly_colinear = []\n",
    "for col in list(df_corr.columns):\n",
    "    for row in df_corr[f'{col}']:\n",
    "        if (row >= .7) & (row < 1) :\n",
    "            highly_colinear.append((row , col , df_corr[df_corr[f'{col}']==row].index))\n",
    "highly_colinear            "
   ]
  },
  {
   "cell_type": "markdown",
   "id": "312fd895",
   "metadata": {},
   "source": [
    "Looking at collinearity with the target `df.win`\n",
    "\n",
    "Not one feature highly correlated with the target so need to remove features due to collinearity if dealing with distance based algorithm such as LogisticRegression  \n",
    "\n",
    "Also makes sense that rift heralds slained and types of dragons slained are not as highly correlated because they do occur every game."
   ]
  },
  {
   "cell_type": "code",
   "execution_count": 21,
   "id": "91a37298",
   "metadata": {},
   "outputs": [
    {
     "data": {
      "text/plain": [
       "win                          1.000000\n",
       "red_team_level               0.451456\n",
       "blue_team_level              0.449947\n",
       "red_team_kills               0.425701\n",
       "blue_team_kills              0.417041\n",
       "red_towers_destroyed         0.393094\n",
       "blue_towers_destroyed        0.385518\n",
       "red_dragons_slained          0.340030\n",
       "red_team_assists             0.338568\n",
       "blue_dragons_slained         0.336227\n",
       "blue_team_assists            0.328521\n",
       "blue_team_cs                 0.323024\n",
       "red_team_cs                  0.322333\n",
       "blue_rift_heralds_slained    0.181833\n",
       "red_rifts_heralds_slained    0.179567\n",
       "blue_WATER_DRAGON            0.154379\n",
       "red_HEXTECH_DRAGON           0.151944\n",
       "blue_FIRE_DRAGON             0.150169\n",
       "red_WATER_DRAGON             0.146979\n",
       "blue_HEXTECH_DRAGON          0.139670\n",
       "red_FIRE_DRAGON              0.128756\n",
       "blue_AIR_DRAGON              0.123848\n",
       "blue_EARTH_DRAGON            0.123614\n",
       "red_team_visionScore         0.123131\n",
       "red_EARTH_DRAGON             0.116243\n",
       "red_AIR_DRAGON               0.114584\n",
       "blue_team_visionScore        0.099395\n",
       "red_inhibitors_destroyed     0.051215\n",
       "blue_inhibitors_destroyed    0.051005\n",
       "Name: win, dtype: float64"
      ]
     },
     "execution_count": 21,
     "metadata": {},
     "output_type": "execute_result"
    }
   ],
   "source": [
    "df_corr.win.sort_values(ascending=False)"
   ]
  },
  {
   "cell_type": "markdown",
   "id": "8790af45",
   "metadata": {},
   "source": [
    "Looking at the types and Nulls in the DataFrame.  I collected the data from riots developer portal so there shouldn't be much cleaning needed.\n",
    "\n",
    "There are no nulls.  All colummns are in int64 or floats.  So there will be no need for any imputing or OHE.  Will need to scale the data in a pipeline."
   ]
  },
  {
   "cell_type": "code",
   "execution_count": 22,
   "id": "cedaf483",
   "metadata": {
    "scrolled": true
   },
   "outputs": [
    {
     "name": "stdout",
     "output_type": "stream",
     "text": [
      "<class 'pandas.core.frame.DataFrame'>\n",
      "Int64Index: 23074 entries, 0 to 12263\n",
      "Data columns (total 30 columns):\n",
      " #   Column                     Non-Null Count  Dtype  \n",
      "---  ------                     --------------  -----  \n",
      " 0   matchId                    23074 non-null  object \n",
      " 1   blue_team_kills            23074 non-null  float64\n",
      " 2   red_team_kills             23074 non-null  float64\n",
      " 3   blue_team_visionScore      23074 non-null  float64\n",
      " 4   red_team_visionScore       23074 non-null  float64\n",
      " 5   blue_team_assists          23074 non-null  float64\n",
      " 6   red_team_assists           23074 non-null  float64\n",
      " 7   blue_team_cs               23074 non-null  int64  \n",
      " 8   red_team_cs                23074 non-null  int64  \n",
      " 9   blue_team_level            23074 non-null  int64  \n",
      " 10  red_team_level             23074 non-null  int64  \n",
      " 11  blue_dragons_slained       23074 non-null  int64  \n",
      " 12  red_dragons_slained        23074 non-null  int64  \n",
      " 13  blue_rift_heralds_slained  23074 non-null  int64  \n",
      " 14  red_rifts_heralds_slained  23074 non-null  int64  \n",
      " 15  blue_AIR_DRAGON            23074 non-null  int64  \n",
      " 16  red_AIR_DRAGON             23074 non-null  int64  \n",
      " 17  blue_EARTH_DRAGON          23074 non-null  int64  \n",
      " 18  red_EARTH_DRAGON           23074 non-null  int64  \n",
      " 19  blue_FIRE_DRAGON           23074 non-null  int64  \n",
      " 20  red_FIRE_DRAGON            23074 non-null  int64  \n",
      " 21  blue_HEXTECH_DRAGON        23074 non-null  int64  \n",
      " 22  red_HEXTECH_DRAGON         23074 non-null  int64  \n",
      " 23  blue_WATER_DRAGON          23074 non-null  int64  \n",
      " 24  red_WATER_DRAGON           23074 non-null  int64  \n",
      " 25  blue_inhibitors_destroyed  23074 non-null  int64  \n",
      " 26  red_inhibitors_destroyed   23074 non-null  int64  \n",
      " 27  blue_towers_destroyed      23074 non-null  int64  \n",
      " 28  red_towers_destroyed       23074 non-null  int64  \n",
      " 29  win                        23074 non-null  object \n",
      "dtypes: float64(6), int64(22), object(2)\n",
      "memory usage: 5.5+ MB\n"
     ]
    }
   ],
   "source": [
    "df.info()"
   ]
  },
  {
   "cell_type": "markdown",
   "id": "eb5c09cc",
   "metadata": {},
   "source": [
    "`matchId` is not needed for model.  Will drop it before going into train test split"
   ]
  },
  {
   "cell_type": "code",
   "execution_count": 23,
   "id": "bcba3c58",
   "metadata": {},
   "outputs": [],
   "source": [
    "df = df.drop(columns='matchId') "
   ]
  },
  {
   "cell_type": "code",
   "execution_count": 151,
   "id": "5f01cb7a",
   "metadata": {},
   "outputs": [],
   "source": [
    "X = df.drop(columns='win') #removing the target\n",
    "y = df.win #isolating the target\n",
    "\n",
    "X_train, X_test, y_train, y_test = train_test_split(X, y, random_state=3) #performing train test split"
   ]
  },
  {
   "cell_type": "markdown",
   "id": "36f398a2",
   "metadata": {},
   "source": [
    "No class imbalance.  Ready to continue to modeling."
   ]
  },
  {
   "cell_type": "code",
   "execution_count": 25,
   "id": "e063a812",
   "metadata": {
    "scrolled": true
   },
   "outputs": [
    {
     "data": {
      "text/plain": [
       "Blue    0.502384\n",
       "Red     0.497616\n",
       "Name: win, dtype: float64"
      ]
     },
     "execution_count": 25,
     "metadata": {},
     "output_type": "execute_result"
    }
   ],
   "source": [
    "y.value_counts(normalize=True)"
   ]
  },
  {
   "cell_type": "markdown",
   "id": "11728a83",
   "metadata": {},
   "source": [
    "Using a \"Kitchen sink\" method for modeling.  Using all of my features and seeing how well the model performs."
   ]
  },
  {
   "cell_type": "code",
   "execution_count": 29,
   "id": "9b6018ba",
   "metadata": {},
   "outputs": [],
   "source": [
    "def get_scores(pipeline, X_train, y_train):\n",
    "    \"\"\"\n",
    "    takes fitted model/ pipeline, X_train, and y_train and returns cross_val and train scores\n",
    "    \"\"\"\n",
    "    print(f'cv = {cross_val_score(pipeline, X_train, y_train).mean()} , train = {pipeline.score(X_train, y_train)}')"
   ]
  },
  {
   "cell_type": "markdown",
   "id": "80dad4d8",
   "metadata": {},
   "source": [
    "setting up `ColumnTransformer` to go into the pipeline "
   ]
  },
  {
   "cell_type": "code",
   "execution_count": 31,
   "id": "afab3172",
   "metadata": {},
   "outputs": [],
   "source": [
    "subpipe = Pipeline(steps=[('ss', StandardScaler())])\n",
    "ct = ColumnTransformer(transformers= [\n",
    "    ('subpipe', subpipe, X.columns)])"
   ]
  },
  {
   "cell_type": "markdown",
   "id": "f6eb2599",
   "metadata": {},
   "source": [
    "## Looking at a variety of different types of algorithms\n",
    "Overview!\n",
    "\n",
    "I went through multiple different model defaults once and did additional hyperparameter tuning on the ones I wanted to look at more.\n",
    "\n",
    "Ran each model with Pipelines to avoid data leakage with cross validation."
   ]
  },
  {
   "cell_type": "markdown",
   "id": "84bfc042",
   "metadata": {},
   "source": [
    "### Building my `DummyClassifier` model"
   ]
  },
  {
   "cell_type": "markdown",
   "id": "1816c78e",
   "metadata": {},
   "source": [
    "Making a baseline model that I need to do better than.  Dummy will go with the most occuring instance."
   ]
  },
  {
   "cell_type": "code",
   "execution_count": 32,
   "id": "13b61c47",
   "metadata": {},
   "outputs": [
    {
     "name": "stdout",
     "output_type": "stream",
     "text": [
      "cv = 0.5022247905229703 , train = 0.5022247905229702\n"
     ]
    }
   ],
   "source": [
    "pipe_dummy= Pipeline(steps=[('ct',ct),\n",
    "                            ('dummy', DummyClassifier())])\n",
    "pipe_dummy.fit(X_train, y_train)\n",
    "get_scores(pipe_dummy, X_train, y_train)"
   ]
  },
  {
   "cell_type": "markdown",
   "id": "da347581",
   "metadata": {},
   "source": [
    "### Building `LogisticRegression` model"
   ]
  },
  {
   "cell_type": "markdown",
   "id": "2577662d",
   "metadata": {},
   "source": [
    "LogisticRegression defaults yield a fairly good accuracy scores that is also well fitted."
   ]
  },
  {
   "cell_type": "code",
   "execution_count": 36,
   "id": "199353b4",
   "metadata": {},
   "outputs": [
    {
     "name": "stdout",
     "output_type": "stream",
     "text": [
      "cv = 0.7738225946258306 , train = 0.7761340652990465\n"
     ]
    }
   ],
   "source": [
    "pipe_log= Pipeline(steps=[('ct',ct),\n",
    "                            ('logreg',LogisticRegression(random_state=3))])\n",
    "\n",
    "pipe_log.fit(X_train, y_train)\n",
    "get_scores(pipe_log, X_train, y_train)"
   ]
  },
  {
   "cell_type": "markdown",
   "id": "ca379f92",
   "metadata": {},
   "source": [
    "Performing grid searching on LogisticRegression.  Their are many warnings that occur in the LogisticRegression grid searches because not all of the parameters can work with eachother.  For example in the first grid search not all penalties can run with all of the solvers."
   ]
  },
  {
   "cell_type": "code",
   "execution_count": 37,
   "id": "2a594876",
   "metadata": {},
   "outputs": [
    {
     "data": {
      "text/plain": [
       "GridSearchCV(cv=5,\n",
       "             estimator=Pipeline(steps=[('ct',\n",
       "                                        ColumnTransformer(transformers=[('subpipe',\n",
       "                                                                         Pipeline(steps=[('ss',\n",
       "                                                                                          StandardScaler())]),\n",
       "                                                                         Index(['blue_team_kills', 'red_team_kills', 'blue_team_visionScore',\n",
       "       'red_team_visionScore', 'blue_team_assists', 'red_team_assists',\n",
       "       'blue_team_cs', 'red_team_cs', 'blue_team_level', 'red_team_level',\n",
       "       'blue_dragons_slained',...\n",
       "       'blue_HEXTECH_DRAGON', 'red_HEXTECH_DRAGON', 'blue_WATER_DRAGON',\n",
       "       'red_WATER_DRAGON', 'blue_inhibitors_destroyed',\n",
       "       'red_inhibitors_destroyed', 'blue_towers_destroyed',\n",
       "       'red_towers_destroyed'],\n",
       "      dtype='object'))])),\n",
       "                                       ('logreg',\n",
       "                                        LogisticRegression(random_state=3))]),\n",
       "             param_grid={'logreg__penalty': ['l1', 'l2', 'elasticnet', 'none'],\n",
       "                         'logreg__solver': ['newton-cg', 'lbfgs', 'liblinear',\n",
       "                                            'sag', 'saga']})"
      ]
     },
     "execution_count": 37,
     "metadata": {},
     "output_type": "execute_result"
    }
   ],
   "source": [
    "parameters = {'logreg__penalty': ['l1', 'l2', 'elasticnet', 'none'],\n",
    "             'logreg__solver':['newton-cg', 'lbfgs', 'liblinear', 'sag', 'saga']}\n",
    "\n",
    "\n",
    "logreg_gs = GridSearchCV(estimator= pipe_log,\n",
    "                 param_grid=parameters,\n",
    "                 cv=5)\n",
    "\n",
    "logreg_gs.fit(X_train, y_train)"
   ]
  },
  {
   "cell_type": "code",
   "execution_count": 38,
   "id": "52d45984",
   "metadata": {},
   "outputs": [
    {
     "data": {
      "text/plain": [
       "{'logreg__penalty': 'l2', 'logreg__solver': 'saga'}"
      ]
     },
     "execution_count": 38,
     "metadata": {},
     "output_type": "execute_result"
    }
   ],
   "source": [
    "logreg_gs.best_params_"
   ]
  },
  {
   "cell_type": "code",
   "execution_count": 39,
   "id": "3573efd0",
   "metadata": {},
   "outputs": [
    {
     "data": {
      "text/plain": [
       "0.7743426755273042"
      ]
     },
     "execution_count": 39,
     "metadata": {},
     "output_type": "execute_result"
    }
   ],
   "source": [
    "logreg_gs.best_score_"
   ]
  },
  {
   "cell_type": "code",
   "execution_count": 115,
   "id": "fc4ba35b",
   "metadata": {},
   "outputs": [
    {
     "name": "stdout",
     "output_type": "stream",
     "text": [
      "cv = 0.7742848887604739 , train = 0.7762496388327073\n"
     ]
    }
   ],
   "source": [
    "pipe_logreg = Pipeline(steps=[('ct',ct),\n",
    "                            ('logreg', LogisticRegression(penalty= 'l2',\n",
    "                                 solver= 'saga'))])\n",
    "pipe_logreg.fit(X_train, y_train)\n",
    "get_scores(pipe_logreg, X_train, y_train)"
   ]
  },
  {
   "cell_type": "markdown",
   "id": "6fdec5a3",
   "metadata": {},
   "source": [
    "Will look into other parameter tuning.  With more variations.  Was not very time extensive. Looking into max_iterations and C. "
   ]
  },
  {
   "cell_type": "code",
   "execution_count": 48,
   "id": "34aeeeca",
   "metadata": {},
   "outputs": [
    {
     "data": {
      "text/plain": [
       "GridSearchCV(cv=5,\n",
       "             estimator=Pipeline(steps=[('ct',\n",
       "                                        ColumnTransformer(transformers=[('subpipe',\n",
       "                                                                         Pipeline(steps=[('ss',\n",
       "                                                                                          StandardScaler())]),\n",
       "                                                                         Index(['blue_team_kills', 'red_team_kills', 'blue_team_visionScore',\n",
       "       'red_team_visionScore', 'blue_team_assists', 'red_team_assists',\n",
       "       'blue_team_cs', 'red_team_cs', 'blue_team_level', 'red_team_level',\n",
       "       'blue_dragons_slained',...\n",
       "       'red_WATER_DRAGON', 'blue_inhibitors_destroyed',\n",
       "       'red_inhibitors_destroyed', 'blue_towers_destroyed',\n",
       "       'red_towers_destroyed'],\n",
       "      dtype='object'))])),\n",
       "                                       ('logreg',\n",
       "                                        LogisticRegression(random_state=3))]),\n",
       "             param_grid={'logreg__C': [0.5, 1, 1.5],\n",
       "                         'logreg__max_iter': [200, 500, 1000],\n",
       "                         'logreg__penalty': ['l1', 'l2', 'elasticnet'],\n",
       "                         'logreg__solver': ['newton-cg', 'lbfgs', 'liblinear',\n",
       "                                            'sag', 'saga']})"
      ]
     },
     "execution_count": 48,
     "metadata": {},
     "output_type": "execute_result"
    }
   ],
   "source": [
    "parameters = {'logreg__penalty': ['l1', 'l2', 'elasticnet'],\n",
    "             'logreg__solver': ['newton-cg', 'lbfgs', 'liblinear', 'sag', 'saga'],\n",
    "              'logreg__max_iter': [200,500,1000],\n",
    "              'logreg__C': [.5, 1,1.5]\n",
    "             }\n",
    "\n",
    "\n",
    "logreg_gs2 = GridSearchCV(estimator= pipe_log,\n",
    "                 param_grid=parameters,\n",
    "                 cv=5)\n",
    "\n",
    "logreg_gs2.fit(X_train, y_train)"
   ]
  },
  {
   "cell_type": "code",
   "execution_count": 49,
   "id": "061e0e48",
   "metadata": {},
   "outputs": [
    {
     "data": {
      "text/plain": [
       "{'logreg__C': 1.5,\n",
       " 'logreg__max_iter': 200,\n",
       " 'logreg__penalty': 'l1',\n",
       " 'logreg__solver': 'liblinear'}"
      ]
     },
     "execution_count": 49,
     "metadata": {},
     "output_type": "execute_result"
    }
   ],
   "source": [
    "logreg_gs2.best_params_"
   ]
  },
  {
   "cell_type": "code",
   "execution_count": 50,
   "id": "78fe8119",
   "metadata": {},
   "outputs": [
    {
     "data": {
      "text/plain": [
       "0.7742848887604739"
      ]
     },
     "execution_count": 50,
     "metadata": {},
     "output_type": "execute_result"
    }
   ],
   "source": [
    "logreg_gs2.best_score_"
   ]
  },
  {
   "cell_type": "markdown",
   "id": "b78149ee",
   "metadata": {},
   "source": [
    "Max_iter and C were both at the upper end of the parameter so running another gridsearch to see where the best param falls for these parameters"
   ]
  },
  {
   "cell_type": "code",
   "execution_count": 65,
   "id": "ad804a57",
   "metadata": {
    "scrolled": true
   },
   "outputs": [
    {
     "data": {
      "text/plain": [
       "({'logreg__C': 1.5, 'logreg__max_iter': 200}, 0.7742848887604739)"
      ]
     },
     "execution_count": 65,
     "metadata": {},
     "output_type": "execute_result"
    }
   ],
   "source": [
    "pipe_log= Pipeline(steps=[('ct',ct),\n",
    "                            ('logreg',LogisticRegression(penalty='l1',\n",
    "                                                         solver='liblinear',\n",
    "                                                         random_state=3))])\n",
    "parameters = {'logreg__C': [1, 1.5,2],\n",
    "             'logreg__max_iter': [200,500,1000]}\n",
    "             \n",
    "logreg_gs3 = GridSearchCV(estimator= pipe_log,\n",
    "                 param_grid=parameters,\n",
    "                 cv=5)\n",
    "\n",
    "logreg_gs3.fit(X_train, y_train)\n",
    "logreg_gs3.best_params_ , logreg_gs3.best_score_"
   ]
  },
  {
   "cell_type": "code",
   "execution_count": null,
   "id": "1412987e",
   "metadata": {},
   "outputs": [],
   "source": [
    "Grid search best params were those of the previous attempt."
   ]
  },
  {
   "cell_type": "code",
   "execution_count": 116,
   "id": "82c2ada7",
   "metadata": {},
   "outputs": [
    {
     "name": "stdout",
     "output_type": "stream",
     "text": [
      "cv = 0.7744004622941346 , train = 0.7762496388327073\n"
     ]
    }
   ],
   "source": [
    "pipe_logreg1 = Pipeline(steps=[('ct',ct),\n",
    "                            ('logreg', LogisticRegression(C= 0.1,\n",
    "                                 max_iter= 200,\n",
    "                                 penalty= 'l1',\n",
    "                                 solver= 'saga'))])\n",
    "pipe_logreg1.fit(X_train, y_train)\n",
    "get_scores(pipe_logreg1, X_train, y_train)"
   ]
  },
  {
   "cell_type": "markdown",
   "id": "99048068",
   "metadata": {},
   "source": [
    "Pickled model for `app.py` for predicting in the app. This model had the best accuracy on cross validation."
   ]
  },
  {
   "cell_type": "code",
   "execution_count": 15,
   "id": "dbf6ccc6",
   "metadata": {},
   "outputs": [],
   "source": [
    "# pickle.dump(pipe_logreg1, open('./best_model_logreg_T', 'wb'))"
   ]
  },
  {
   "cell_type": "markdown",
   "id": "b953e39d",
   "metadata": {},
   "source": [
    "### Building `KNeighborsClassifier` model"
   ]
  },
  {
   "cell_type": "code",
   "execution_count": 55,
   "id": "79de2c1b",
   "metadata": {},
   "outputs": [
    {
     "name": "stdout",
     "output_type": "stream",
     "text": [
      "cv = 0.7275931811615141 , train = 0.8154868535105461\n"
     ]
    }
   ],
   "source": [
    "pipe_knn= Pipeline(steps=[('ct',ct),\n",
    "                            ('knn',KNeighborsClassifier())])\n",
    "\n",
    "pipe_knn.fit(X_train, y_train)\n",
    "get_scores(pipe_knn, X_train, y_train)"
   ]
  },
  {
   "cell_type": "markdown",
   "id": "34da3ac2",
   "metadata": {},
   "source": [
    "Not bad accuracy for defualt.  Lets run a grid search to see how it compares to logistic regression. "
   ]
  },
  {
   "cell_type": "code",
   "execution_count": 37,
   "id": "bb8091da",
   "metadata": {},
   "outputs": [
    {
     "data": {
      "text/plain": [
       "({'knn__metric': 'manhattan', 'knn__n_neighbors': 25}, 0.7567754984108639)"
      ]
     },
     "execution_count": 37,
     "metadata": {},
     "output_type": "execute_result"
    }
   ],
   "source": [
    "pipe_knn1= Pipeline(steps=[('ct',ct),\n",
    "                            ('knn',KNeighborsClassifier())])\n",
    "\n",
    "parameters = {'knn__n_neighbors': [3,5,10,25],\n",
    "             'knn__metric': ['manhattan','euclidean','minkowski']}\n",
    "             \n",
    "\n",
    "\n",
    "pipe_knn1_gs = GridSearchCV(estimator= pipe_knn,\n",
    "                 param_grid=parameters,\n",
    "                 cv=5)\n",
    "\n",
    "pipe_knn1_gs.fit(X_train, y_train)\n",
    "pipe_knn1_gs.best_params_ , pipe_knn1_gs.best_score_"
   ]
  },
  {
   "cell_type": "markdown",
   "id": "0df966d9",
   "metadata": {},
   "source": [
    "Checking on how well fit the best params are but we can still increase the n_neighbors to see how it affects the models accuracy without making it too overfit"
   ]
  },
  {
   "cell_type": "code",
   "execution_count": 59,
   "id": "665aea9d",
   "metadata": {},
   "outputs": [
    {
     "name": "stdout",
     "output_type": "stream",
     "text": [
      "cv = 0.7567754984108639 , train = 0.7773475874024849\n"
     ]
    }
   ],
   "source": [
    "get_scores(Pipeline(steps=[('ct',ct),\n",
    "                            ('knn',KNeighborsClassifier(n_neighbors=25, metric='manhattan'))]).fit(X_train, y_train), X_train, y_train)"
   ]
  },
  {
   "cell_type": "code",
   "execution_count": 61,
   "id": "5a48cd17",
   "metadata": {},
   "outputs": [
    {
     "name": "stdout",
     "output_type": "stream",
     "text": [
      "cv = 0.7604738514880093 , train = 0.7743426755273043\n"
     ]
    }
   ],
   "source": [
    "get_scores(Pipeline(steps=[('ct',ct),\n",
    "                            ('knn',KNeighborsClassifier(n_neighbors=50, metric='manhattan'))]).fit(X_train, y_train), X_train, y_train)"
   ]
  },
  {
   "cell_type": "code",
   "execution_count": 62,
   "id": "16bcf8d0",
   "metadata": {},
   "outputs": [
    {
     "name": "stdout",
     "output_type": "stream",
     "text": [
      "cv = 0.7634787633631899 , train = 0.770066454781855\n"
     ]
    }
   ],
   "source": [
    "get_scores(Pipeline(steps=[('ct',ct),\n",
    "                            ('knn',KNeighborsClassifier(n_neighbors=100, metric='manhattan'))]).fit(X_train, y_train), X_train, y_train)"
   ]
  },
  {
   "cell_type": "code",
   "execution_count": 64,
   "id": "57484a27",
   "metadata": {},
   "outputs": [
    {
     "name": "stdout",
     "output_type": "stream",
     "text": [
      "cv = 0.7646344986997977 , train = 0.7673504767408263\n"
     ]
    }
   ],
   "source": [
    "get_scores(Pipeline(steps=[('ct',ct),\n",
    "                            ('knn',KNeighborsClassifier(n_neighbors=200, metric='manhattan'))]).fit(X_train, y_train), X_train, y_train)"
   ]
  },
  {
   "cell_type": "code",
   "execution_count": 65,
   "id": "56d87bb6",
   "metadata": {},
   "outputs": [
    {
     "name": "stdout",
     "output_type": "stream",
     "text": [
      "cv = 0.7643455648656458 , train = 0.7665992487720312\n"
     ]
    }
   ],
   "source": [
    "get_scores(Pipeline(steps=[('ct',ct),\n",
    "                            ('knn',KNeighborsClassifier(n_neighbors=500, metric='manhattan'))]).fit(X_train, y_train), X_train, y_train)"
   ]
  },
  {
   "cell_type": "markdown",
   "id": "d8f7ff7c",
   "metadata": {},
   "source": [
    "Going to look at other models.   This model is well fitted but its accuracy is not as high LogisticRegression.  500 `n_neighbors` started showing dominishing returns on thr cross val score.   Best KNN is with n_neighboors=200"
   ]
  },
  {
   "cell_type": "code",
   "execution_count": 72,
   "id": "1fbb169a",
   "metadata": {},
   "outputs": [],
   "source": [
    "best_kNN = Pipeline(steps=[('ct',ct),\n",
    "                            ('knn',KNeighborsClassifier(n_neighbors=200, metric='manhattan'))]).fit(X_train, y_train)"
   ]
  },
  {
   "cell_type": "markdown",
   "id": "2fb72e8b",
   "metadata": {},
   "source": [
    "### Building `DecisionTreeClassifier` model"
   ]
  },
  {
   "cell_type": "code",
   "execution_count": 66,
   "id": "dccd509a",
   "metadata": {},
   "outputs": [
    {
     "name": "stdout",
     "output_type": "stream",
     "text": [
      "cv = 0.6869690840797457 , train = 1.0\n"
     ]
    }
   ],
   "source": [
    "pipe_dtc= Pipeline(steps=[('ct',ct),\n",
    "                            ('dtc',DecisionTreeClassifier(random_state=3))])\n",
    "\n",
    "pipe_dtc.fit(X_train, y_train)\n",
    "get_scores(pipe_dtc,X_train, y_train)"
   ]
  },
  {
   "cell_type": "markdown",
   "id": "3ab30621",
   "metadata": {},
   "source": [
    "Default cross val score is lower than other algorithms will not do further model tuning."
   ]
  },
  {
   "cell_type": "markdown",
   "id": "48235225",
   "metadata": {},
   "source": [
    "### Building `RandomForestClassifier` model"
   ]
  },
  {
   "cell_type": "markdown",
   "id": "0154f062",
   "metadata": {},
   "source": [
    "Highest Cross val score so far but it is overfit.  "
   ]
  },
  {
   "cell_type": "code",
   "execution_count": 123,
   "id": "85b6f6d4",
   "metadata": {},
   "outputs": [
    {
     "name": "stdout",
     "output_type": "stream",
     "text": [
      "cv = 0.7752094770297602 , train = 1.0\n"
     ]
    }
   ],
   "source": [
    "pipe_rfc= Pipeline(steps=[('ct',ct),\n",
    "                            ('rfc',RandomForestClassifier(random_state=3))])\n",
    "\n",
    "pipe_rfc.fit(X_train, y_train)\n",
    "get_scores(pipe_rfc,X_train, y_train)"
   ]
  },
  {
   "cell_type": "code",
   "execution_count": 74,
   "id": "a3038b18",
   "metadata": {},
   "outputs": [
    {
     "data": {
      "text/plain": [
       "({'rfc__criterion': 'gini', 'rfc__max_depth': 10, 'rfc__n_estimators': 100},\n",
       " 0.7748627564287778)"
      ]
     },
     "execution_count": 74,
     "metadata": {},
     "output_type": "execute_result"
    }
   ],
   "source": [
    "pipe_rfc1= Pipeline(steps=[('ct',ct),\n",
    "                            ('rfc',RandomForestClassifier())])\n",
    "\n",
    "parameters = {'rfc__n_estimators': [50,100,200],\n",
    "              'rfc__criterion': [\"gini\", \"entropy\"],\n",
    "             'rfc__max_depth': [2, 5, 10]}\n",
    "             \n",
    "\n",
    "\n",
    "pipe_rfc1_gs = GridSearchCV(estimator= pipe_rfc1,\n",
    "                 param_grid=parameters,\n",
    "                 cv=5)\n",
    "\n",
    "pipe_rfc1_gs.fit(X_train, y_train)\n",
    "pipe_rfc1_gs.best_params_ , pipe_rfc1_gs.best_score_"
   ]
  },
  {
   "cell_type": "code",
   "execution_count": 75,
   "id": "5132b064",
   "metadata": {},
   "outputs": [
    {
     "name": "stdout",
     "output_type": "stream",
     "text": [
      "cv = 0.773129153423866 , train = 0.8503900606761051\n"
     ]
    }
   ],
   "source": [
    "pipe_rfc= Pipeline(steps=[('ct',ct),\n",
    "                            ('rfc',RandomForestClassifier(n_estimators= 100,\n",
    "                                                          criterion= 'gini',\n",
    "                                                          max_depth= 10,\n",
    "                                                          random_state=3))])\n",
    "\n",
    "pipe_rfc.fit(X_train, y_train)\n",
    "get_scores(pipe_rfc,X_train, y_train)"
   ]
  },
  {
   "cell_type": "markdown",
   "id": "e0c945f8",
   "metadata": {},
   "source": [
    "CV score went down from the best results from gridsearch but train score has reduced so its better fit.  "
   ]
  },
  {
   "cell_type": "code",
   "execution_count": 86,
   "id": "a328c2b1",
   "metadata": {},
   "outputs": [
    {
     "data": {
      "text/plain": [
       "({'rfc__max_depth': 10, 'rfc__min_samples_split': 10}, 0.7757295579312338)"
      ]
     },
     "execution_count": 86,
     "metadata": {},
     "output_type": "execute_result"
    }
   ],
   "source": [
    "pipe_rfc1= Pipeline(steps=[('ct',ct),\n",
    "                            ('rfc',RandomForestClassifier(random_state=3))])\n",
    "\n",
    "parameters = {'rfc__max_depth': [10, 50,100],\n",
    "              'rfc__min_samples_split': [10, 50,100]\n",
    "             }\n",
    "             \n",
    "\n",
    "\n",
    "pipe_rfc1_gs = GridSearchCV(estimator= pipe_rfc1,\n",
    "                 param_grid=parameters,\n",
    "                 cv=5)\n",
    "\n",
    "pipe_rfc1_gs.fit(X_train, y_train)\n",
    "pipe_rfc1_gs.best_params_ , pipe_rfc1_gs.best_score_"
   ]
  },
  {
   "cell_type": "code",
   "execution_count": 89,
   "id": "81eefa8e",
   "metadata": {},
   "outputs": [
    {
     "name": "stdout",
     "output_type": "stream",
     "text": [
      "cv = 0.774458249060965 , train = 0.8183761918520659\n"
     ]
    }
   ],
   "source": [
    "pipe_rfc= Pipeline(steps=[('ct',ct),\n",
    "                            ('rfc',RandomForestClassifier(max_depth= 10,\n",
    "                                                          min_samples_leaf=10,\n",
    "                                                          random_state=3))])\n",
    "\n",
    "pipe_rfc.fit(X_train, y_train)\n",
    "get_scores(pipe_rfc,X_train, y_train)"
   ]
  },
  {
   "cell_type": "code",
   "execution_count": 88,
   "id": "725700ad",
   "metadata": {},
   "outputs": [
    {
     "name": "stdout",
     "output_type": "stream",
     "text": [
      "cv = 0.7741115284599827 , train = 0.7896561687373591\n"
     ]
    }
   ],
   "source": [
    "pipe_rfc= Pipeline(steps=[('ct',ct),\n",
    "                            ('rfc',RandomForestClassifier(max_depth= 100,\n",
    "                                                          min_samples_leaf=50,\n",
    "                                                          random_state=3))])\n",
    "\n",
    "pipe_rfc.fit(X_train, y_train)\n",
    "get_scores(pipe_rfc,X_train, y_train)"
   ]
  },
  {
   "cell_type": "code",
   "execution_count": null,
   "id": "3d878930",
   "metadata": {},
   "outputs": [],
   "source": []
  },
  {
   "cell_type": "markdown",
   "id": "46f8c048",
   "metadata": {},
   "source": [
    "### Building `ExtraTreesClassifier` model"
   ]
  },
  {
   "cell_type": "code",
   "execution_count": 94,
   "id": "aeb15f45",
   "metadata": {},
   "outputs": [
    {
     "name": "stdout",
     "output_type": "stream",
     "text": [
      "cv = 0.7694308003467206 , train = 1.0\n"
     ]
    }
   ],
   "source": [
    "pipe_efc= Pipeline(steps=[('ct',ct),\n",
    "                            ('efc',ExtraTreesClassifier(random_state=3))])\n",
    "\n",
    "pipe_efc.fit(X_train, y_train)\n",
    "get_scores(pipe_efc,X_train, y_train)"
   ]
  },
  {
   "cell_type": "code",
   "execution_count": 90,
   "id": "73129008",
   "metadata": {},
   "outputs": [
    {
     "data": {
      "text/plain": [
       "({'efc__max_depth': 50, 'efc__min_samples_split': 50}, 0.7717422710199365)"
      ]
     },
     "execution_count": 90,
     "metadata": {},
     "output_type": "execute_result"
    }
   ],
   "source": [
    "pipe_efc= Pipeline(steps=[('ct',ct),\n",
    "                            ('efc',ExtraTreesClassifier(random_state=3))])\n",
    "parameters = {'efc__max_depth': [10, 50,100],\n",
    "              'efc__min_samples_split': [10, 50,100]\n",
    "             }\n",
    "             \n",
    "\n",
    "\n",
    "pipe_efc_gs = GridSearchCV(estimator= pipe_efc,\n",
    "                 param_grid=parameters,\n",
    "                 cv=5)\n",
    "\n",
    "pipe_efc_gs.fit(X_train, y_train)\n",
    "pipe_efc_gs.best_params_ , pipe_efc_gs.best_score_"
   ]
  },
  {
   "cell_type": "code",
   "execution_count": 173,
   "id": "ea1430c7",
   "metadata": {},
   "outputs": [
    {
     "name": "stdout",
     "output_type": "stream",
     "text": [
      "cv = 0.7717422710199365 , train = 0.819416353655013\n"
     ]
    }
   ],
   "source": [
    "pipe_efc1= Pipeline(steps=[('ct',ct),\n",
    "                            ('efc',ExtraTreesClassifier(max_depth=50,\n",
    "                                min_samples_split=50,\n",
    "                                random_state=3))])\n",
    "\n",
    "pipe_efc.fit(X_train, y_train)\n",
    "get_scores(pipe_efc,X_train, y_train)"
   ]
  },
  {
   "cell_type": "markdown",
   "id": "6ed0b089",
   "metadata": {},
   "source": [
    "Good a accuracy but it is not as high as LogisticRegresion or RandomForestClassifer.  "
   ]
  },
  {
   "cell_type": "markdown",
   "id": "b8ef6ddc",
   "metadata": {},
   "source": [
    "### Building `GradientBoostingClassifier` model"
   ]
  },
  {
   "cell_type": "code",
   "execution_count": 105,
   "id": "bc17d7cf",
   "metadata": {},
   "outputs": [
    {
     "name": "stdout",
     "output_type": "stream",
     "text": [
      "cv = 0.7737070210921699 , train = 0.7856688818260619\n"
     ]
    }
   ],
   "source": [
    "pipe_gbc= Pipeline(steps=[('ct',ct),\n",
    "                            ('gbc', GradientBoostingClassifier(random_state=3))])\n",
    "\n",
    "pipe_gbc.fit(X_train, y_train)\n",
    "get_scores(pipe_gbc,X_train, y_train)"
   ]
  },
  {
   "cell_type": "code",
   "execution_count": 114,
   "id": "769af9df",
   "metadata": {},
   "outputs": [
    {
     "data": {
      "text/plain": [
       "GridSearchCV(cv=5,\n",
       "             estimator=Pipeline(steps=[('ct',\n",
       "                                        ColumnTransformer(transformers=[('subpipe',\n",
       "                                                                         Pipeline(steps=[('ss',\n",
       "                                                                                          StandardScaler())]),\n",
       "                                                                         Index(['blue_team_kills', 'red_team_kills', 'blue_team_visionScore',\n",
       "       'red_team_visionScore', 'blue_team_assists', 'red_team_assists',\n",
       "       'blue_team_cs', 'red_team_cs', 'blue_team_level', 'red_team_level',\n",
       "       'blue_dragons_slained',...\n",
       "       'red_EARTH_DRAGON', 'blue_FIRE_DRAGON', 'red_FIRE_DRAGON',\n",
       "       'blue_HEXTECH_DRAGON', 'red_HEXTECH_DRAGON', 'blue_WATER_DRAGON',\n",
       "       'red_WATER_DRAGON', 'blue_inhibitors_destroyed',\n",
       "       'red_inhibitors_destroyed', 'blue_towers_destroyed',\n",
       "       'red_towers_destroyed'],\n",
       "      dtype='object'))])),\n",
       "                                       ('gbc',\n",
       "                                        GradientBoostingClassifier(random_state=3))]),\n",
       "             param_grid={'gbc__loss': ['deviance', 'exponential'],\n",
       "                         'gbc__max_depth': [2, 5, 10]})"
      ]
     },
     "execution_count": 114,
     "metadata": {},
     "output_type": "execute_result"
    }
   ],
   "source": [
    "parameters = {'gbc__loss': ['deviance', 'exponential'],\n",
    "          'gbc__max_depth': [2, 5, 10]}\n",
    "\n",
    "\n",
    "gbc_gs = GridSearchCV(estimator= pipe_gbc,\n",
    "                 param_grid=parameters,\n",
    "                 cv=5)\n",
    "gbc_gs.fit(X_train, y_train)"
   ]
  },
  {
   "cell_type": "code",
   "execution_count": 108,
   "id": "65b5312b",
   "metadata": {},
   "outputs": [
    {
     "data": {
      "text/plain": [
       "{'gbc__loss': 'exponential', 'gbc__max_depth': 2}"
      ]
     },
     "execution_count": 108,
     "metadata": {},
     "output_type": "execute_result"
    }
   ],
   "source": [
    "gbc_gs.best_params_"
   ]
  },
  {
   "cell_type": "code",
   "execution_count": 109,
   "id": "4addc13c",
   "metadata": {},
   "outputs": [
    {
     "data": {
      "text/plain": [
       "0.7736492343253395"
      ]
     },
     "execution_count": 109,
     "metadata": {},
     "output_type": "execute_result"
    }
   ],
   "source": [
    "gbc_gs.best_score_"
   ]
  },
  {
   "cell_type": "code",
   "execution_count": 110,
   "id": "1b21c21f",
   "metadata": {},
   "outputs": [],
   "source": [
    "parameters = {'gbc__max_depth': [2, 5, 10],\n",
    "              'gbc__min_samples_split': [2,3,5,10],\n",
    "             'gbc__min_samples_leaf': [1,3,5,10]}\n",
    "\n",
    "gbc_gs2 = GridSearchCV(estimator= pipe_gbc,\n",
    "                 param_grid=parameters,\n",
    "                 cv=5)"
   ]
  },
  {
   "cell_type": "code",
   "execution_count": 111,
   "id": "f0c09d6b",
   "metadata": {},
   "outputs": [
    {
     "data": {
      "text/plain": [
       "GridSearchCV(cv=5,\n",
       "             estimator=Pipeline(steps=[('ct',\n",
       "                                        ColumnTransformer(transformers=[('subpipe',\n",
       "                                                                         Pipeline(steps=[('ss',\n",
       "                                                                                          StandardScaler())]),\n",
       "                                                                         Index(['blue_team_kills', 'red_team_kills', 'blue_team_visionScore',\n",
       "       'red_team_visionScore', 'blue_team_assists', 'red_team_assists',\n",
       "       'blue_team_cs', 'red_team_cs', 'blue_team_level', 'red_team_level',\n",
       "       'blue_dragons_slained',...\n",
       "       'blue_HEXTECH_DRAGON', 'red_HEXTECH_DRAGON', 'blue_WATER_DRAGON',\n",
       "       'red_WATER_DRAGON', 'blue_inhibitors_destroyed',\n",
       "       'red_inhibitors_destroyed', 'blue_towers_destroyed',\n",
       "       'red_towers_destroyed'],\n",
       "      dtype='object'))])),\n",
       "                                       ('gbc',\n",
       "                                        GradientBoostingClassifier(random_state=3))]),\n",
       "             param_grid={'gbc__max_depth': [2, 5, 10],\n",
       "                         'gbc__min_samples_leaf': [1, 3, 5, 10],\n",
       "                         'gbc__min_samples_split': [2, 3, 5, 10]})"
      ]
     },
     "execution_count": 111,
     "metadata": {},
     "output_type": "execute_result"
    }
   ],
   "source": [
    "gbc_gs2.fit(X_train, y_train)"
   ]
  },
  {
   "cell_type": "code",
   "execution_count": 112,
   "id": "9101549a",
   "metadata": {},
   "outputs": [
    {
     "data": {
      "text/plain": [
       "{'gbc__max_depth': 2, 'gbc__min_samples_leaf': 5, 'gbc__min_samples_split': 2}"
      ]
     },
     "execution_count": 112,
     "metadata": {},
     "output_type": "execute_result"
    }
   ],
   "source": [
    "gbc_gs2.best_params_"
   ]
  },
  {
   "cell_type": "code",
   "execution_count": 113,
   "id": "d1cf1a41",
   "metadata": {},
   "outputs": [
    {
     "data": {
      "text/plain": [
       "0.7740537416931523"
      ]
     },
     "execution_count": 113,
     "metadata": {},
     "output_type": "execute_result"
    }
   ],
   "source": [
    "gbc_gs2.best_score_"
   ]
  },
  {
   "cell_type": "markdown",
   "id": "cab6118e",
   "metadata": {},
   "source": [
    "GradientBoosting had good accuracy but is not our best model.  They also run slower so will not use any further."
   ]
  },
  {
   "cell_type": "markdown",
   "id": "cdcb7722",
   "metadata": {},
   "source": [
    "### Building `StackingClassifier` model"
   ]
  },
  {
   "cell_type": "markdown",
   "id": "26f27a03",
   "metadata": {},
   "source": [
    "Grabbed a variety of well performing models.  Did not include GradientBooster becausse it had the same accuracy scores but slower run time.  Additionally only wanted one tree model in my stackingclassifier to give the Classifier more diversity of algorithms.  Did not include ExtraTreeClassifier and DecisionTreeClassifier as well."
   ]
  },
  {
   "cell_type": "code",
   "execution_count": 117,
   "id": "5b599567",
   "metadata": {},
   "outputs": [
    {
     "name": "stdout",
     "output_type": "stream",
     "text": [
      "cv = 0.7753250505634209 , train = 0.7818549552152557\n"
     ]
    }
   ],
   "source": [
    "stack = StackingClassifier(estimators=[\n",
    "    ('logreg', LogisticRegression(C= 0.1,\n",
    "                                 max_iter= 200,\n",
    "                                 penalty= 'l1',\n",
    "                                 solver= 'saga')),\n",
    "    ('knn',KNeighborsClassifier(n_neighbors=200,\n",
    "                                metric='manhattan')),\n",
    "    ('rfc',RandomForestClassifier(max_depth= 100,\n",
    "                                  min_samples_leaf=50,\n",
    "                                  random_state=3))])\n",
    "\n",
    "\n",
    "pipe_stack = Pipeline(steps=[('ct',ct),\n",
    "                            ('stack', stack)])\n",
    "pipe_stack.fit(X_train, y_train)\n",
    "get_scores(pipe_stack,X_train, y_train)"
   ]
  },
  {
   "cell_type": "markdown",
   "id": "71969271",
   "metadata": {},
   "source": [
    "StackingClassifier has the highest CV score"
   ]
  },
  {
   "cell_type": "code",
   "execution_count": 131,
   "id": "9bf26ed9",
   "metadata": {},
   "outputs": [
    {
     "data": {
      "text/plain": [
       "Pipeline(steps=[('ct',\n",
       "                 ColumnTransformer(transformers=[('subpipe',\n",
       "                                                  Pipeline(steps=[('ss',\n",
       "                                                                   StandardScaler())]),\n",
       "                                                  Index(['blue_team_kills', 'red_team_kills', 'blue_team_visionScore',\n",
       "       'red_team_visionScore', 'blue_team_assists', 'red_team_assists',\n",
       "       'blue_team_cs', 'red_team_cs', 'blue_team_level', 'red_team_level',\n",
       "       'blue_dragons_slained', 'red_dragons_slained',\n",
       "       'blue_...\n",
       "       'blue_AIR_DRAGON', 'red_AIR_DRAGON', 'blue_EARTH_DRAGON',\n",
       "       'red_EARTH_DRAGON', 'blue_FIRE_DRAGON', 'red_FIRE_DRAGON',\n",
       "       'blue_HEXTECH_DRAGON', 'red_HEXTECH_DRAGON', 'blue_WATER_DRAGON',\n",
       "       'red_WATER_DRAGON', 'blue_inhibitors_destroyed',\n",
       "       'red_inhibitors_destroyed', 'blue_towers_destroyed',\n",
       "       'red_towers_destroyed'],\n",
       "      dtype='object'))])),\n",
       "                ('logreg', LogisticRegression(random_state=3))])"
      ]
     },
     "execution_count": 131,
     "metadata": {},
     "output_type": "execute_result"
    }
   ],
   "source": [
    "pipe_log"
   ]
  },
  {
   "cell_type": "markdown",
   "id": "cf4f97df",
   "metadata": {},
   "source": [
    "Produced many models that ideally had the same accuracy score.  So will be using the LogisticRegression models for my app because of simplicity and speed.\n",
    "\n",
    "For next steps is to increase the amount of features for the model.  The models may not be able to capture more information that will lead to better predictions.\n",
    "\n",
    "Will also look at reducing features and see how that may affect the model as well later in this notebook."
   ]
  },
  {
   "cell_type": "code",
   "execution_count": 130,
   "id": "1370ffe9",
   "metadata": {},
   "outputs": [
    {
     "data": {
      "text/plain": [
       "(0.7708441671000174, 0.7706708268330733)"
      ]
     },
     "execution_count": 130,
     "metadata": {},
     "output_type": "execute_result"
    }
   ],
   "source": [
    "# Very first model | last model and best performing model wtih CV score\n",
    "pipe_log.score(X_test,y_test), pipe_stack.score(X_test,y_test)"
   ]
  },
  {
   "cell_type": "code",
   "execution_count": 154,
   "id": "ad1a47a6",
   "metadata": {},
   "outputs": [
    {
     "data": {
      "text/plain": [
       "0.7710175073669614"
      ]
     },
     "execution_count": 154,
     "metadata": {},
     "output_type": "execute_result"
    }
   ],
   "source": [
    "pipe_logreg.score(X_test,y_test)"
   ]
  },
  {
   "cell_type": "markdown",
   "id": "7678d121",
   "metadata": {},
   "source": [
    "The accuracy of my model on the testing data was 77.1%"
   ]
  },
  {
   "cell_type": "code",
   "execution_count": 172,
   "id": "edb66b20",
   "metadata": {},
   "outputs": [
    {
     "data": {
      "image/png": "[encoded data removed]",
      "text/plain": [
       "<Figure size 576x576 with 2 Axes>"
      ]
     },
     "metadata": {
      "needs_background": "light"
     },
     "output_type": "display_data"
    }
   ],
   "source": [
    "fig, ax = plt.subplots(figsize=(8, 8))\n",
    "plot_confusion_matrix(pipe_logreg, X_test, y_test,\n",
    "                      normalize='all',\n",
    "                     cmap='Greens',\n",
    "                     ax=ax);"
   ]
  },
  {
   "cell_type": "code",
   "execution_count": 174,
   "id": "ca808adc",
   "metadata": {},
   "outputs": [
    {
     "data": {
      "text/plain": [
       "{'Baseline': 0.5022,\n",
       " 'LogisticRegression': 0.7738,\n",
       " 'LogisticRegression tuned': 0.7744,\n",
       " 'KNneighborsClassifer': 0.7276,\n",
       " 'KNneighborsClassifer tuned': 0.7646,\n",
       " 'DecisionTreeClassifier': 0.687,\n",
       " 'RandomForestClassifier': 0.7752,\n",
       " 'RandomForestClassifier tuned': 0.7752,\n",
       " 'ExtraTreeClassifier': 0.7717,\n",
       " 'ExtraTreeClassifier tuned': 0.7717,\n",
       " 'GradientBoostingClassifier': 0.7737,\n",
       " 'GradientBoostingClassifier tuned': 0.7741,\n",
       " 'StackingClassifier': 0.7753}"
      ]
     },
     "execution_count": 174,
     "metadata": {},
     "output_type": "execute_result"
    }
   ],
   "source": [
    "model_devolpment = {'Baseline' : round(cross_val_score(pipe_dummy, X_train, y_train).mean(),4),\n",
    "                    'LogisticRegression' : round(cross_val_score(pipe_log, X_train, y_train).mean(),4),\n",
    "                    'LogisticRegression tuned' : round(cross_val_score(pipe_logreg1, X_train, y_train).mean(),4),                                                           \n",
    "                   'KNneighborsClassifer': round(cross_val_score(pipe_knn, X_train, y_train).mean(), 4),\n",
    "                   'KNneighborsClassifer tuned': round(cross_val_score(best_kNN, X_train, y_train).mean(), 4),                              \n",
    "                    'DecisionTreeClassifier': round(cross_val_score(pipe_dtc, X_train, y_train).mean(), 4),\n",
    "                   'RandomForestClassifier': round(cross_val_score(pipe_rfc, X_train, y_train).mean(),4),\n",
    "                    'RandomForestClassifier tuned': round(cross_val_score(pipe_rfc1, X_train, y_train).mean(),4),\n",
    "                    'ExtraTreeClassifier': round(cross_val_score(pipe_efc, X_train, y_train).mean(),4), \n",
    "                    'ExtraTreeClassifier tuned': round(cross_val_score(pipe_efc1, X_train, y_train).mean(),4),\n",
    "                   'GradientBoostingClassifier': round(cross_val_score(pipe_gbc, X_train, y_train).mean(),4),\n",
    "                   'GradientBoostingClassifier tuned' : round(gbc_gs2.best_score_, 4),\n",
    "                   'StackingClassifier' : round(cross_val_score(pipe_stack, X_train, y_train).mean(),4)}\n",
    "model_devolpment"
   ]
  },
  {
   "cell_type": "markdown",
   "id": "d0146eb9",
   "metadata": {},
   "source": [
    "There are many models that have relatively same CV score.  The StackingClassifier had the highest score but LogisticRegression had was the best fit model with the CV with the training and was the quickest so decided to use LogisticRegression tuned in the end."
   ]
  },
  {
   "cell_type": "code",
   "execution_count": 178,
   "id": "389d1e66",
   "metadata": {
    "scrolled": true
   },
   "outputs": [
    {
     "data": {
      "image/png": "[encoded data removed]",
      "text/plain": [
       "<Figure size 720x360 with 1 Axes>"
      ]
     },
     "metadata": {
      "needs_background": "light"
     },
     "output_type": "display_data"
    }
   ],
   "source": [
    "plt.figure(figsize=(10,5))\n",
    "plt.bar(model_devolpment.keys(), model_devolpment.values(),\n",
    "       color=['black', 'blue', 'green', 'blue', 'blue', 'blue', 'blue', 'blue', 'blue', 'blue', 'blue', 'blue', 'blue'])\n",
    "\n",
    "plt.title('Model Development')\n",
    "plt.xlabel('Model Type')\n",
    "plt.ylabel('Cross Val Score')\n",
    "\n",
    "\n",
    "plt.xticks(rotation=75);"
   ]
  },
  {
   "cell_type": "code",
   "execution_count": null,
   "id": "1d745619",
   "metadata": {},
   "outputs": [],
   "source": []
  },
  {
   "cell_type": "markdown",
   "id": "93ed3913",
   "metadata": {},
   "source": [
    "# Looking into Reducing Dimensions"
   ]
  },
  {
   "cell_type": "markdown",
   "id": "a958b175",
   "metadata": {},
   "source": [
    "Curious if dimensionality reduction may lead to better yielding results.  Did not explore too much but did not yield better results than previous models."
   ]
  },
  {
   "cell_type": "code",
   "execution_count": 5,
   "id": "418e4332",
   "metadata": {},
   "outputs": [
    {
     "data": {
      "text/html": [
       "<div>\n",
       "<style scoped>\n",
       "    .dataframe tbody tr th:only-of-type {\n",
       "        vertical-align: middle;\n",
       "    }\n",
       "\n",
       "    .dataframe tbody tr th {\n",
       "        vertical-align: top;\n",
       "    }\n",
       "\n",
       "    .dataframe thead th {\n",
       "        text-align: right;\n",
       "    }\n",
       "</style>\n",
       "<table border=\"1\" class=\"dataframe\">\n",
       "  <thead>\n",
       "    <tr style=\"text-align: right;\">\n",
       "      <th></th>\n",
       "      <th>matchId</th>\n",
       "      <th>blue_team_kills</th>\n",
       "      <th>red_team_kills</th>\n",
       "      <th>blue_team_visionScore</th>\n",
       "      <th>red_team_visionScore</th>\n",
       "      <th>blue_team_assists</th>\n",
       "      <th>red_team_assists</th>\n",
       "      <th>blue_team_cs</th>\n",
       "      <th>red_team_cs</th>\n",
       "      <th>blue_team_level</th>\n",
       "      <th>...</th>\n",
       "      <th>red_FIRE_DRAGON</th>\n",
       "      <th>blue_HEXTECH_DRAGON</th>\n",
       "      <th>red_HEXTECH_DRAGON</th>\n",
       "      <th>blue_WATER_DRAGON</th>\n",
       "      <th>red_WATER_DRAGON</th>\n",
       "      <th>blue_inhibitors_destroyed</th>\n",
       "      <th>red_inhibitors_destroyed</th>\n",
       "      <th>blue_towers_destroyed</th>\n",
       "      <th>red_towers_destroyed</th>\n",
       "      <th>win</th>\n",
       "    </tr>\n",
       "  </thead>\n",
       "  <tbody>\n",
       "    <tr>\n",
       "      <th>0</th>\n",
       "      <td>NA1_4307254820</td>\n",
       "      <td>14.0</td>\n",
       "      <td>10.0</td>\n",
       "      <td>32.0</td>\n",
       "      <td>28.0</td>\n",
       "      <td>11.0</td>\n",
       "      <td>9.0</td>\n",
       "      <td>416</td>\n",
       "      <td>453</td>\n",
       "      <td>46</td>\n",
       "      <td>...</td>\n",
       "      <td>0</td>\n",
       "      <td>0</td>\n",
       "      <td>0</td>\n",
       "      <td>1</td>\n",
       "      <td>0</td>\n",
       "      <td>0</td>\n",
       "      <td>0</td>\n",
       "      <td>1</td>\n",
       "      <td>2</td>\n",
       "      <td>Blue</td>\n",
       "    </tr>\n",
       "    <tr>\n",
       "      <th>1</th>\n",
       "      <td>NA1_4145811121</td>\n",
       "      <td>18.0</td>\n",
       "      <td>27.0</td>\n",
       "      <td>33.0</td>\n",
       "      <td>37.0</td>\n",
       "      <td>13.0</td>\n",
       "      <td>23.0</td>\n",
       "      <td>363</td>\n",
       "      <td>450</td>\n",
       "      <td>47</td>\n",
       "      <td>...</td>\n",
       "      <td>0</td>\n",
       "      <td>0</td>\n",
       "      <td>0</td>\n",
       "      <td>0</td>\n",
       "      <td>1</td>\n",
       "      <td>0</td>\n",
       "      <td>0</td>\n",
       "      <td>3</td>\n",
       "      <td>0</td>\n",
       "      <td>Red</td>\n",
       "    </tr>\n",
       "    <tr>\n",
       "      <th>2</th>\n",
       "      <td>NA1_4111806763</td>\n",
       "      <td>18.0</td>\n",
       "      <td>17.0</td>\n",
       "      <td>33.0</td>\n",
       "      <td>32.0</td>\n",
       "      <td>22.0</td>\n",
       "      <td>13.0</td>\n",
       "      <td>404</td>\n",
       "      <td>403</td>\n",
       "      <td>47</td>\n",
       "      <td>...</td>\n",
       "      <td>0</td>\n",
       "      <td>0</td>\n",
       "      <td>0</td>\n",
       "      <td>0</td>\n",
       "      <td>1</td>\n",
       "      <td>0</td>\n",
       "      <td>0</td>\n",
       "      <td>2</td>\n",
       "      <td>1</td>\n",
       "      <td>Blue</td>\n",
       "    </tr>\n",
       "    <tr>\n",
       "      <th>3</th>\n",
       "      <td>NA1_4267117332</td>\n",
       "      <td>7.0</td>\n",
       "      <td>19.0</td>\n",
       "      <td>24.0</td>\n",
       "      <td>29.0</td>\n",
       "      <td>6.0</td>\n",
       "      <td>21.0</td>\n",
       "      <td>411</td>\n",
       "      <td>400</td>\n",
       "      <td>44</td>\n",
       "      <td>...</td>\n",
       "      <td>0</td>\n",
       "      <td>0</td>\n",
       "      <td>1</td>\n",
       "      <td>0</td>\n",
       "      <td>0</td>\n",
       "      <td>0</td>\n",
       "      <td>0</td>\n",
       "      <td>2</td>\n",
       "      <td>0</td>\n",
       "      <td>Red</td>\n",
       "    </tr>\n",
       "    <tr>\n",
       "      <th>4</th>\n",
       "      <td>NA1_4291432747</td>\n",
       "      <td>12.0</td>\n",
       "      <td>7.0</td>\n",
       "      <td>32.0</td>\n",
       "      <td>37.0</td>\n",
       "      <td>13.0</td>\n",
       "      <td>4.0</td>\n",
       "      <td>461</td>\n",
       "      <td>490</td>\n",
       "      <td>48</td>\n",
       "      <td>...</td>\n",
       "      <td>0</td>\n",
       "      <td>0</td>\n",
       "      <td>1</td>\n",
       "      <td>0</td>\n",
       "      <td>1</td>\n",
       "      <td>0</td>\n",
       "      <td>0</td>\n",
       "      <td>1</td>\n",
       "      <td>2</td>\n",
       "      <td>Blue</td>\n",
       "    </tr>\n",
       "  </tbody>\n",
       "</table>\n",
       "<p>5 rows × 30 columns</p>\n",
       "</div>"
      ],
      "text/plain": [
       "          matchId  blue_team_kills  red_team_kills  blue_team_visionScore  \\\n",
       "0  NA1_4307254820             14.0            10.0                   32.0   \n",
       "1  NA1_4145811121             18.0            27.0                   33.0   \n",
       "2  NA1_4111806763             18.0            17.0                   33.0   \n",
       "3  NA1_4267117332              7.0            19.0                   24.0   \n",
       "4  NA1_4291432747             12.0             7.0                   32.0   \n",
       "\n",
       "   red_team_visionScore  blue_team_assists  red_team_assists  blue_team_cs  \\\n",
       "0                  28.0               11.0               9.0           416   \n",
       "1                  37.0               13.0              23.0           363   \n",
       "2                  32.0               22.0              13.0           404   \n",
       "3                  29.0                6.0              21.0           411   \n",
       "4                  37.0               13.0               4.0           461   \n",
       "\n",
       "   red_team_cs  blue_team_level  ...  red_FIRE_DRAGON  blue_HEXTECH_DRAGON  \\\n",
       "0          453               46  ...                0                    0   \n",
       "1          450               47  ...                0                    0   \n",
       "2          403               47  ...                0                    0   \n",
       "3          400               44  ...                0                    0   \n",
       "4          490               48  ...                0                    0   \n",
       "\n",
       "   red_HEXTECH_DRAGON  blue_WATER_DRAGON  red_WATER_DRAGON  \\\n",
       "0                   0                  1                 0   \n",
       "1                   0                  0                 1   \n",
       "2                   0                  0                 1   \n",
       "3                   1                  0                 0   \n",
       "4                   1                  0                 1   \n",
       "\n",
       "   blue_inhibitors_destroyed  red_inhibitors_destroyed  blue_towers_destroyed  \\\n",
       "0                          0                         0                      1   \n",
       "1                          0                         0                      3   \n",
       "2                          0                         0                      2   \n",
       "3                          0                         0                      2   \n",
       "4                          0                         0                      1   \n",
       "\n",
       "   red_towers_destroyed   win  \n",
       "0                     2  Blue  \n",
       "1                     0   Red  \n",
       "2                     1  Blue  \n",
       "3                     0   Red  \n",
       "4                     2  Blue  \n",
       "\n",
       "[5 rows x 30 columns]"
      ]
     },
     "execution_count": 5,
     "metadata": {},
     "output_type": "execute_result"
    }
   ],
   "source": [
    "df = pd.read_csv('../data/full.csv', index_col=0)\n",
    "df.head()"
   ]
  },
  {
   "cell_type": "code",
   "execution_count": 11,
   "id": "b5255e3e",
   "metadata": {},
   "outputs": [
    {
     "data": {
      "text/plain": [
       "Index(['matchId', 'blue_team_kills', 'red_team_kills', 'blue_team_visionScore',\n",
       "       'red_team_visionScore', 'blue_team_assists', 'red_team_assists',\n",
       "       'blue_team_cs', 'red_team_cs', 'blue_team_level', 'red_team_level',\n",
       "       'blue_dragons_slained', 'red_dragons_slained',\n",
       "       'blue_rift_heralds_slained', 'red_rifts_heralds_slained',\n",
       "       'blue_AIR_DRAGON', 'red_AIR_DRAGON', 'blue_EARTH_DRAGON',\n",
       "       'red_EARTH_DRAGON', 'blue_FIRE_DRAGON', 'red_FIRE_DRAGON',\n",
       "       'blue_HEXTECH_DRAGON', 'red_HEXTECH_DRAGON', 'blue_WATER_DRAGON',\n",
       "       'red_WATER_DRAGON', 'blue_inhibitors_destroyed',\n",
       "       'red_inhibitors_destroyed', 'blue_towers_destroyed',\n",
       "       'red_towers_destroyed', 'win'],\n",
       "      dtype='object')"
      ]
     },
     "execution_count": 11,
     "metadata": {},
     "output_type": "execute_result"
    }
   ],
   "source": [
    "df.columns"
   ]
  },
  {
   "cell_type": "markdown",
   "id": "7ea7bf54",
   "metadata": {},
   "source": [
    "Looking into manually dropping some columns.  From the \"Kitchen Sink\" methoddd of using it all.  Not going to use assists because it is highly correlated with kills.  And not going to use types of drags.  This reduces the columns by about half."
   ]
  },
  {
   "cell_type": "code",
   "execution_count": 32,
   "id": "7d4150d8",
   "metadata": {},
   "outputs": [],
   "source": [
    "X = df.drop(columns=['win','matchId','blue_team_assists','red_team_assists','blue_AIR_DRAGON', 'red_AIR_DRAGON', \n",
    "                     'blue_EARTH_DRAGON','red_EARTH_DRAGON', 'blue_FIRE_DRAGON', 'red_FIRE_DRAGON','blue_HEXTECH_DRAGON',\n",
    "                     'red_HEXTECH_DRAGON', 'blue_WATER_DRAGON','red_WATER_DRAGON'])\n",
    "y = df.win #isolating the target\n",
    "\n",
    "X_train, X_test, y_train, y_test = train_test_split(X, y, random_state=3) #performing train test split"
   ]
  },
  {
   "cell_type": "code",
   "execution_count": 33,
   "id": "f24e54e7",
   "metadata": {},
   "outputs": [
    {
     "data": {
      "text/html": [
       "<div>\n",
       "<style scoped>\n",
       "    .dataframe tbody tr th:only-of-type {\n",
       "        vertical-align: middle;\n",
       "    }\n",
       "\n",
       "    .dataframe tbody tr th {\n",
       "        vertical-align: top;\n",
       "    }\n",
       "\n",
       "    .dataframe thead th {\n",
       "        text-align: right;\n",
       "    }\n",
       "</style>\n",
       "<table border=\"1\" class=\"dataframe\">\n",
       "  <thead>\n",
       "    <tr style=\"text-align: right;\">\n",
       "      <th></th>\n",
       "      <th>blue_team_kills</th>\n",
       "      <th>red_team_kills</th>\n",
       "      <th>blue_team_visionScore</th>\n",
       "      <th>red_team_visionScore</th>\n",
       "      <th>blue_team_cs</th>\n",
       "      <th>red_team_cs</th>\n",
       "      <th>blue_team_level</th>\n",
       "      <th>red_team_level</th>\n",
       "      <th>blue_dragons_slained</th>\n",
       "      <th>red_dragons_slained</th>\n",
       "      <th>blue_rift_heralds_slained</th>\n",
       "      <th>red_rifts_heralds_slained</th>\n",
       "      <th>blue_inhibitors_destroyed</th>\n",
       "      <th>red_inhibitors_destroyed</th>\n",
       "      <th>blue_towers_destroyed</th>\n",
       "      <th>red_towers_destroyed</th>\n",
       "    </tr>\n",
       "  </thead>\n",
       "  <tbody>\n",
       "    <tr>\n",
       "      <th>0</th>\n",
       "      <td>14.0</td>\n",
       "      <td>10.0</td>\n",
       "      <td>32.0</td>\n",
       "      <td>28.0</td>\n",
       "      <td>416</td>\n",
       "      <td>453</td>\n",
       "      <td>46</td>\n",
       "      <td>46</td>\n",
       "      <td>2</td>\n",
       "      <td>0</td>\n",
       "      <td>0</td>\n",
       "      <td>1</td>\n",
       "      <td>0</td>\n",
       "      <td>0</td>\n",
       "      <td>1</td>\n",
       "      <td>2</td>\n",
       "    </tr>\n",
       "    <tr>\n",
       "      <th>1</th>\n",
       "      <td>18.0</td>\n",
       "      <td>27.0</td>\n",
       "      <td>33.0</td>\n",
       "      <td>37.0</td>\n",
       "      <td>363</td>\n",
       "      <td>450</td>\n",
       "      <td>47</td>\n",
       "      <td>50</td>\n",
       "      <td>0</td>\n",
       "      <td>2</td>\n",
       "      <td>0</td>\n",
       "      <td>1</td>\n",
       "      <td>0</td>\n",
       "      <td>0</td>\n",
       "      <td>3</td>\n",
       "      <td>0</td>\n",
       "    </tr>\n",
       "    <tr>\n",
       "      <th>2</th>\n",
       "      <td>18.0</td>\n",
       "      <td>17.0</td>\n",
       "      <td>33.0</td>\n",
       "      <td>32.0</td>\n",
       "      <td>404</td>\n",
       "      <td>403</td>\n",
       "      <td>47</td>\n",
       "      <td>46</td>\n",
       "      <td>1</td>\n",
       "      <td>1</td>\n",
       "      <td>0</td>\n",
       "      <td>1</td>\n",
       "      <td>0</td>\n",
       "      <td>0</td>\n",
       "      <td>2</td>\n",
       "      <td>1</td>\n",
       "    </tr>\n",
       "    <tr>\n",
       "      <th>3</th>\n",
       "      <td>7.0</td>\n",
       "      <td>19.0</td>\n",
       "      <td>24.0</td>\n",
       "      <td>29.0</td>\n",
       "      <td>411</td>\n",
       "      <td>400</td>\n",
       "      <td>44</td>\n",
       "      <td>48</td>\n",
       "      <td>0</td>\n",
       "      <td>1</td>\n",
       "      <td>1</td>\n",
       "      <td>0</td>\n",
       "      <td>0</td>\n",
       "      <td>0</td>\n",
       "      <td>2</td>\n",
       "      <td>0</td>\n",
       "    </tr>\n",
       "    <tr>\n",
       "      <th>4</th>\n",
       "      <td>12.0</td>\n",
       "      <td>7.0</td>\n",
       "      <td>32.0</td>\n",
       "      <td>37.0</td>\n",
       "      <td>461</td>\n",
       "      <td>490</td>\n",
       "      <td>48</td>\n",
       "      <td>45</td>\n",
       "      <td>0</td>\n",
       "      <td>2</td>\n",
       "      <td>0</td>\n",
       "      <td>1</td>\n",
       "      <td>0</td>\n",
       "      <td>0</td>\n",
       "      <td>1</td>\n",
       "      <td>2</td>\n",
       "    </tr>\n",
       "  </tbody>\n",
       "</table>\n",
       "</div>"
      ],
      "text/plain": [
       "   blue_team_kills  red_team_kills  blue_team_visionScore  \\\n",
       "0             14.0            10.0                   32.0   \n",
       "1             18.0            27.0                   33.0   \n",
       "2             18.0            17.0                   33.0   \n",
       "3              7.0            19.0                   24.0   \n",
       "4             12.0             7.0                   32.0   \n",
       "\n",
       "   red_team_visionScore  blue_team_cs  red_team_cs  blue_team_level  \\\n",
       "0                  28.0           416          453               46   \n",
       "1                  37.0           363          450               47   \n",
       "2                  32.0           404          403               47   \n",
       "3                  29.0           411          400               44   \n",
       "4                  37.0           461          490               48   \n",
       "\n",
       "   red_team_level  blue_dragons_slained  red_dragons_slained  \\\n",
       "0              46                     2                    0   \n",
       "1              50                     0                    2   \n",
       "2              46                     1                    1   \n",
       "3              48                     0                    1   \n",
       "4              45                     0                    2   \n",
       "\n",
       "   blue_rift_heralds_slained  red_rifts_heralds_slained  \\\n",
       "0                          0                          1   \n",
       "1                          0                          1   \n",
       "2                          0                          1   \n",
       "3                          1                          0   \n",
       "4                          0                          1   \n",
       "\n",
       "   blue_inhibitors_destroyed  red_inhibitors_destroyed  blue_towers_destroyed  \\\n",
       "0                          0                         0                      1   \n",
       "1                          0                         0                      3   \n",
       "2                          0                         0                      2   \n",
       "3                          0                         0                      2   \n",
       "4                          0                         0                      1   \n",
       "\n",
       "   red_towers_destroyed  \n",
       "0                     2  \n",
       "1                     0  \n",
       "2                     1  \n",
       "3                     0  \n",
       "4                     2  "
      ]
     },
     "execution_count": 33,
     "metadata": {},
     "output_type": "execute_result"
    }
   ],
   "source": [
    "X.head()"
   ]
  },
  {
   "cell_type": "markdown",
   "id": "4cb35336",
   "metadata": {},
   "source": [
    "Setting up ColumnTransformer"
   ]
  },
  {
   "cell_type": "code",
   "execution_count": 34,
   "id": "688eb2c6",
   "metadata": {},
   "outputs": [],
   "source": [
    "subpipe = Pipeline(steps=[('ss', StandardScaler())])\n",
    "ct = ColumnTransformer(transformers= [\n",
    "    ('subpipe', subpipe, X.columns)])"
   ]
  },
  {
   "cell_type": "code",
   "execution_count": 35,
   "id": "d763fc68",
   "metadata": {},
   "outputs": [
    {
     "name": "stdout",
     "output_type": "stream",
     "text": [
      "cv = 0.5022247905229703 , train = 0.5022247905229702\n"
     ]
    }
   ],
   "source": [
    "pipe_dummy= Pipeline(steps=[('ct',ct),\n",
    "                            ('dummy', DummyClassifier())])\n",
    "\n",
    "pipe_dummy.fit(X_train, y_train)\n",
    "print(f'cv = {cross_val_score(pipe_dummy, X_train, y_train).mean()} , train = {pipe_dummy.score(X_train, y_train)}')"
   ]
  },
  {
   "cell_type": "markdown",
   "id": "5263194d",
   "metadata": {},
   "source": [
    "LogisticRegression yielded about .5% lower scores"
   ]
  },
  {
   "cell_type": "code",
   "execution_count": 27,
   "id": "6b0ae1be",
   "metadata": {},
   "outputs": [
    {
     "name": "stdout",
     "output_type": "stream",
     "text": [
      "cv = 0.7679283444091303 , train = 0.7676971973418087\n"
     ]
    }
   ],
   "source": [
    "pipe_logr= Pipeline(steps=[('ct',ct),\n",
    "                            ('logreg', LogisticRegression())])\n",
    "\n",
    "pipe_logr.fit(X_train, y_train)\n",
    "print(f'cv = {cross_val_score(pipe_logr, X_train, y_train).mean()} , train = {pipe_logr.score(X_train, y_train)}')"
   ]
  },
  {
   "cell_type": "markdown",
   "id": "682027ad",
   "metadata": {},
   "source": [
    "RandomForestClassifier yielded about 2.25% lower scores"
   ]
  },
  {
   "cell_type": "code",
   "execution_count": 28,
   "id": "a24e9224",
   "metadata": {},
   "outputs": [
    {
     "name": "stdout",
     "output_type": "stream",
     "text": [
      "cv = 0.7516324761629587 , train = 0.999711066165848\n"
     ]
    }
   ],
   "source": [
    "pipe_rfc1= Pipeline(steps=[('ct',ct),\n",
    "                            ('rfc',RandomForestClassifier(random_state=3))])\n",
    "\n",
    "pipe_rfc1.fit(X_train, y_train)\n",
    "print(f'cv = {cross_val_score(pipe_rfc1, X_train, y_train).mean()} , train = {pipe_rfc1.score(X_train, y_train)}')"
   ]
  },
  {
   "cell_type": "code",
   "execution_count": 29,
   "id": "023846a6",
   "metadata": {},
   "outputs": [
    {
     "data": {
      "text/plain": [
       "GridSearchCV(cv=5,\n",
       "             estimator=Pipeline(steps=[('ct',\n",
       "                                        ColumnTransformer(transformers=[('subpipe',\n",
       "                                                                         Pipeline(steps=[('ss',\n",
       "                                                                                          StandardScaler())]),\n",
       "                                                                         Index(['blue_team_kills', 'red_team_kills', 'blue_team_visionScore',\n",
       "       'red_team_visionScore', 'blue_dragons_slained', 'red_dragons_slained',\n",
       "       'blue_rift_heralds_slained', 'red_rifts_heralds_slained',\n",
       "       'blue_inhibitors_destroyed', 'red_inhibitors_destroyed',\n",
       "       'blue_towers_destroyed', 'red_towers_destroyed'],\n",
       "      dtype='object'))])),\n",
       "                                       ('rfc',\n",
       "                                        RandomForestClassifier(random_state=3))]),\n",
       "             param_grid={'rfc__max_depth': [2, 5, 10],\n",
       "                         'rfc__min_samples_leaf': [1, 3, 5, 10],\n",
       "                         'rfc__min_samples_split': [2, 3, 5, 10]})"
      ]
     },
     "execution_count": 29,
     "metadata": {},
     "output_type": "execute_result"
    }
   ],
   "source": [
    "parameters = {'rfc__max_depth': [2, 5, 10],\n",
    "              'rfc__min_samples_split': [2,3,5,10],\n",
    "             'rfc__min_samples_leaf': [1,3,5,10]}\n",
    "\n",
    "rfc_gs = GridSearchCV(estimator= pipe_rfc1,\n",
    "                 param_grid=parameters,\n",
    "                 cv=5)\n",
    "rfc_gs.fit(X_train, y_train)"
   ]
  },
  {
   "cell_type": "code",
   "execution_count": 30,
   "id": "3ad97e98",
   "metadata": {},
   "outputs": [
    {
     "data": {
      "text/plain": [
       "{'rfc__max_depth': 10, 'rfc__min_samples_leaf': 3, 'rfc__min_samples_split': 2}"
      ]
     },
     "execution_count": 30,
     "metadata": {},
     "output_type": "execute_result"
    }
   ],
   "source": [
    "rfc_gs.best_params_"
   ]
  },
  {
   "cell_type": "code",
   "execution_count": 31,
   "id": "20ac6c81",
   "metadata": {},
   "outputs": [
    {
     "data": {
      "text/plain": [
       "0.7653279399017625"
      ]
     },
     "execution_count": 31,
     "metadata": {},
     "output_type": "execute_result"
    }
   ],
   "source": [
    "rfc_gs.best_score_"
   ]
  },
  {
   "cell_type": "markdown",
   "id": "24093c69",
   "metadata": {},
   "source": [
    "After gridsearching RandomForestClassifer with reduced features the model accuracy is better but the accuracy is still about a percent less than the \"Kitchen Sink\" method.  "
   ]
  },
  {
   "cell_type": "markdown",
   "id": "55f318a4",
   "metadata": {},
   "source": [
    "# Looking into PCA"
   ]
  },
  {
   "cell_type": "code",
   "execution_count": 179,
   "id": "0e2c1c28",
   "metadata": {},
   "outputs": [],
   "source": [
    "from sklearn.decomposition import PCA"
   ]
  },
  {
   "cell_type": "code",
   "execution_count": 181,
   "id": "8e0ee27b",
   "metadata": {},
   "outputs": [],
   "source": [
    "# subpipe_ss = Pipeline(steps=[('ss', StandardScaler())])\n",
    "# subpipe_pca = Pipeline(steps=[('pca', PCA())])\n",
    "\n",
    "# ct = ColumnTransformer(transformers= [('subpipe_ss', subpipe_ss, X_train.columns),\n",
    "#     ('subpipe_pca', subpipe_pca, X_train.columns)], remainder='passthrough')\n"
   ]
  },
  {
   "cell_type": "code",
   "execution_count": 182,
   "id": "7a48baeb",
   "metadata": {},
   "outputs": [],
   "source": [
    "# subpipe_ss = Pipeline(steps=[('ss', StandardScaler())])\n",
    "# subpipe_pca = Pipeline(steps=[('pca', PCA())])\n",
    "\n",
    "# ct = ColumnTransformer(transformers= [('subpipe_ss', subpipe_ss, X_train.columns)])\n"
   ]
  },
  {
   "cell_type": "code",
   "execution_count": 183,
   "id": "7dbdc317",
   "metadata": {},
   "outputs": [],
   "source": [
    "# pipe_rfc1= Pipeline(steps=[('ss',subpipe_ss),\n",
    "#                            ('pca', subpipe_pca),\n",
    "#                             ('rfc',RandomForestClassifier(random_state=3))])\n",
    "\n",
    "# pipe_rfc1.fit(X_train, y_train)\n",
    "# print(f'cv = {cross_val_score(pipe_rfc1, X_train, y_train).mean()} , train = {pipe_rfc1.score(X_train, y_train)}')"
   ]
  },
  {
   "cell_type": "code",
   "execution_count": 184,
   "id": "a7cf7876",
   "metadata": {
    "scrolled": true
   },
   "outputs": [],
   "source": [
    "# pd.DataFrame(pipe_rfc1.named_steps.pca)"
   ]
  },
  {
   "cell_type": "code",
   "execution_count": 186,
   "id": "e0795029",
   "metadata": {
    "scrolled": false
   },
   "outputs": [],
   "source": [
    "# ct.named_transformers_"
   ]
  },
  {
   "cell_type": "code",
   "execution_count": 187,
   "id": "3ca15e92",
   "metadata": {},
   "outputs": [],
   "source": [
    "# ct"
   ]
  },
  {
   "cell_type": "code",
   "execution_count": 185,
   "id": "555f2e7a",
   "metadata": {},
   "outputs": [],
   "source": [
    "# pipe_dummy= Pipeline(steps=[('ct',ct),\n",
    "#                             ('dummy', DummyClassifier())])\n",
    "\n",
    "# pipe_dummy.fit(X_train, y_train)\n",
    "# print(f'cv = {cross_val_score(pipe_dummy, X_train, y_train).mean()} , train = {pipe_dummy.score(X_train, y_train)}')"
   ]
  },
  {
   "cell_type": "code",
   "execution_count": 188,
   "id": "8452ece3",
   "metadata": {},
   "outputs": [],
   "source": [
    "# pipe_rfc1= Pipeline(steps=[('ct',ct),\n",
    "#                             ('rfc',RandomForestClassifier(random_state=3))])\n",
    "\n",
    "# pipe_rfc1.fit(X_train, y_train)\n",
    "# print(f'cv = {cross_val_score(pipe_rfc1, X_train, y_train).mean()} , train = {pipe_rfc1.score(X_train, y_train)}')"
   ]
  },
  {
   "cell_type": "code",
   "execution_count": 189,
   "id": "5ec01495",
   "metadata": {},
   "outputs": [],
   "source": [
    "# pipe_rfc1"
   ]
  },
  {
   "cell_type": "code",
   "execution_count": 190,
   "id": "183f1d2d",
   "metadata": {},
   "outputs": [],
   "source": [
    "# ct = ColumnTransformer(transformers= [('subpipe_pca', subpipe_pca, X_train.columns)])"
   ]
  },
  {
   "cell_type": "code",
   "execution_count": 191,
   "id": "3d308397",
   "metadata": {
    "scrolled": true
   },
   "outputs": [],
   "source": [
    "# X_train"
   ]
  },
  {
   "cell_type": "code",
   "execution_count": 192,
   "id": "92b21701",
   "metadata": {
    "scrolled": true
   },
   "outputs": [],
   "source": [
    "# pd.DataFrame(ct.fit_transform(X_train))"
   ]
  },
  {
   "cell_type": "code",
   "execution_count": 193,
   "id": "17332b19",
   "metadata": {},
   "outputs": [],
   "source": [
    "# dty = pd.DataFrame(ct.fit_transform(X_train))\n",
    "# dty[[0,28]]"
   ]
  },
  {
   "cell_type": "code",
   "execution_count": 194,
   "id": "cdec17bb",
   "metadata": {},
   "outputs": [
    {
     "data": {
      "text/html": [
       "<div>\n",
       "<style scoped>\n",
       "    .dataframe tbody tr th:only-of-type {\n",
       "        vertical-align: middle;\n",
       "    }\n",
       "\n",
       "    .dataframe tbody tr th {\n",
       "        vertical-align: top;\n",
       "    }\n",
       "\n",
       "    .dataframe thead th {\n",
       "        text-align: right;\n",
       "    }\n",
       "</style>\n",
       "<table border=\"1\" class=\"dataframe\">\n",
       "  <thead>\n",
       "    <tr style=\"text-align: right;\">\n",
       "      <th></th>\n",
       "      <th>0</th>\n",
       "      <th>1</th>\n",
       "      <th>2</th>\n",
       "      <th>3</th>\n",
       "      <th>4</th>\n",
       "      <th>5</th>\n",
       "      <th>6</th>\n",
       "      <th>7</th>\n",
       "      <th>8</th>\n",
       "      <th>9</th>\n",
       "      <th>10</th>\n",
       "      <th>11</th>\n",
       "      <th>12</th>\n",
       "      <th>13</th>\n",
       "      <th>14</th>\n",
       "      <th>15</th>\n",
       "      <th>16</th>\n",
       "      <th>17</th>\n",
       "      <th>18</th>\n",
       "      <th>19</th>\n",
       "    </tr>\n",
       "  </thead>\n",
       "  <tbody>\n",
       "    <tr>\n",
       "      <th>0</th>\n",
       "      <td>1.994176</td>\n",
       "      <td>1.647957</td>\n",
       "      <td>-0.320648</td>\n",
       "      <td>-0.018530</td>\n",
       "      <td>1.644281</td>\n",
       "      <td>1.654706</td>\n",
       "      <td>-0.418946</td>\n",
       "      <td>2.006002</td>\n",
       "      <td>0.817468</td>\n",
       "      <td>-0.409354</td>\n",
       "      <td>0.630931</td>\n",
       "      <td>-0.147655</td>\n",
       "      <td>-1.734418</td>\n",
       "      <td>-0.063653</td>\n",
       "      <td>-0.962583</td>\n",
       "      <td>0.286701</td>\n",
       "      <td>0.264427</td>\n",
       "      <td>-0.269535</td>\n",
       "      <td>-0.764910</td>\n",
       "      <td>-0.657588</td>\n",
       "    </tr>\n",
       "    <tr>\n",
       "      <th>1</th>\n",
       "      <td>0.179690</td>\n",
       "      <td>-1.556315</td>\n",
       "      <td>-0.667321</td>\n",
       "      <td>0.496664</td>\n",
       "      <td>1.278283</td>\n",
       "      <td>-0.190090</td>\n",
       "      <td>-1.542351</td>\n",
       "      <td>0.102767</td>\n",
       "      <td>-0.861019</td>\n",
       "      <td>0.269216</td>\n",
       "      <td>-0.286321</td>\n",
       "      <td>-0.608524</td>\n",
       "      <td>-0.029253</td>\n",
       "      <td>0.601880</td>\n",
       "      <td>1.387568</td>\n",
       "      <td>0.178536</td>\n",
       "      <td>-0.232207</td>\n",
       "      <td>0.777710</td>\n",
       "      <td>-0.010932</td>\n",
       "      <td>-0.383482</td>\n",
       "    </tr>\n",
       "    <tr>\n",
       "      <th>2</th>\n",
       "      <td>-1.761531</td>\n",
       "      <td>0.373621</td>\n",
       "      <td>2.401497</td>\n",
       "      <td>1.187561</td>\n",
       "      <td>0.080840</td>\n",
       "      <td>0.889657</td>\n",
       "      <td>-0.795106</td>\n",
       "      <td>-1.064294</td>\n",
       "      <td>0.379663</td>\n",
       "      <td>0.831858</td>\n",
       "      <td>-0.403120</td>\n",
       "      <td>-0.587015</td>\n",
       "      <td>1.289725</td>\n",
       "      <td>-0.973712</td>\n",
       "      <td>-0.505674</td>\n",
       "      <td>0.318284</td>\n",
       "      <td>-1.550063</td>\n",
       "      <td>-0.338247</td>\n",
       "      <td>-1.732908</td>\n",
       "      <td>0.817178</td>\n",
       "    </tr>\n",
       "    <tr>\n",
       "      <th>3</th>\n",
       "      <td>4.370237</td>\n",
       "      <td>0.358001</td>\n",
       "      <td>-1.853959</td>\n",
       "      <td>-1.049786</td>\n",
       "      <td>1.044281</td>\n",
       "      <td>-0.873507</td>\n",
       "      <td>-0.146893</td>\n",
       "      <td>1.403694</td>\n",
       "      <td>-1.057694</td>\n",
       "      <td>1.052678</td>\n",
       "      <td>-1.168804</td>\n",
       "      <td>-0.817730</td>\n",
       "      <td>0.557494</td>\n",
       "      <td>-0.436561</td>\n",
       "      <td>1.101464</td>\n",
       "      <td>0.312986</td>\n",
       "      <td>-0.053591</td>\n",
       "      <td>-1.275524</td>\n",
       "      <td>-1.442191</td>\n",
       "      <td>-0.198175</td>\n",
       "    </tr>\n",
       "    <tr>\n",
       "      <th>4</th>\n",
       "      <td>-1.463491</td>\n",
       "      <td>1.653907</td>\n",
       "      <td>-1.185821</td>\n",
       "      <td>-1.474459</td>\n",
       "      <td>0.619846</td>\n",
       "      <td>0.503075</td>\n",
       "      <td>0.438901</td>\n",
       "      <td>0.306249</td>\n",
       "      <td>-1.458701</td>\n",
       "      <td>-0.102234</td>\n",
       "      <td>0.413903</td>\n",
       "      <td>1.229715</td>\n",
       "      <td>1.122271</td>\n",
       "      <td>0.789153</td>\n",
       "      <td>-0.120488</td>\n",
       "      <td>-0.453877</td>\n",
       "      <td>-1.864088</td>\n",
       "      <td>0.428514</td>\n",
       "      <td>-0.271619</td>\n",
       "      <td>0.007005</td>\n",
       "    </tr>\n",
       "    <tr>\n",
       "      <th>...</th>\n",
       "      <td>...</td>\n",
       "      <td>...</td>\n",
       "      <td>...</td>\n",
       "      <td>...</td>\n",
       "      <td>...</td>\n",
       "      <td>...</td>\n",
       "      <td>...</td>\n",
       "      <td>...</td>\n",
       "      <td>...</td>\n",
       "      <td>...</td>\n",
       "      <td>...</td>\n",
       "      <td>...</td>\n",
       "      <td>...</td>\n",
       "      <td>...</td>\n",
       "      <td>...</td>\n",
       "      <td>...</td>\n",
       "      <td>...</td>\n",
       "      <td>...</td>\n",
       "      <td>...</td>\n",
       "      <td>...</td>\n",
       "    </tr>\n",
       "    <tr>\n",
       "      <th>17300</th>\n",
       "      <td>-0.445361</td>\n",
       "      <td>0.370488</td>\n",
       "      <td>-1.023018</td>\n",
       "      <td>2.224175</td>\n",
       "      <td>1.327342</td>\n",
       "      <td>0.735207</td>\n",
       "      <td>-1.032061</td>\n",
       "      <td>-1.049115</td>\n",
       "      <td>0.426311</td>\n",
       "      <td>-0.359984</td>\n",
       "      <td>-1.354296</td>\n",
       "      <td>-0.149733</td>\n",
       "      <td>0.746856</td>\n",
       "      <td>-0.966841</td>\n",
       "      <td>-0.412759</td>\n",
       "      <td>0.805531</td>\n",
       "      <td>1.275257</td>\n",
       "      <td>0.510393</td>\n",
       "      <td>0.461792</td>\n",
       "      <td>-0.472182</td>\n",
       "    </tr>\n",
       "    <tr>\n",
       "      <th>17301</th>\n",
       "      <td>-5.298179</td>\n",
       "      <td>-1.601150</td>\n",
       "      <td>0.142269</td>\n",
       "      <td>-0.655532</td>\n",
       "      <td>-0.463096</td>\n",
       "      <td>0.068948</td>\n",
       "      <td>-0.442030</td>\n",
       "      <td>1.369269</td>\n",
       "      <td>0.464404</td>\n",
       "      <td>0.644704</td>\n",
       "      <td>0.455521</td>\n",
       "      <td>-0.719790</td>\n",
       "      <td>-0.469590</td>\n",
       "      <td>1.143043</td>\n",
       "      <td>-1.079888</td>\n",
       "      <td>0.541414</td>\n",
       "      <td>0.818034</td>\n",
       "      <td>-0.575405</td>\n",
       "      <td>-1.110635</td>\n",
       "      <td>-0.376032</td>\n",
       "    </tr>\n",
       "    <tr>\n",
       "      <th>17302</th>\n",
       "      <td>0.904471</td>\n",
       "      <td>2.642567</td>\n",
       "      <td>1.466443</td>\n",
       "      <td>-0.198771</td>\n",
       "      <td>0.119878</td>\n",
       "      <td>0.896915</td>\n",
       "      <td>-0.875021</td>\n",
       "      <td>-1.053183</td>\n",
       "      <td>0.443737</td>\n",
       "      <td>0.050554</td>\n",
       "      <td>-1.179864</td>\n",
       "      <td>-0.267192</td>\n",
       "      <td>0.728032</td>\n",
       "      <td>-1.133705</td>\n",
       "      <td>-0.558201</td>\n",
       "      <td>0.170655</td>\n",
       "      <td>0.553876</td>\n",
       "      <td>-0.872178</td>\n",
       "      <td>0.183719</td>\n",
       "      <td>-0.698763</td>\n",
       "    </tr>\n",
       "    <tr>\n",
       "      <th>17303</th>\n",
       "      <td>1.741745</td>\n",
       "      <td>-1.649651</td>\n",
       "      <td>-1.589344</td>\n",
       "      <td>-0.582988</td>\n",
       "      <td>0.875314</td>\n",
       "      <td>-0.898050</td>\n",
       "      <td>1.730846</td>\n",
       "      <td>-0.322451</td>\n",
       "      <td>-0.769026</td>\n",
       "      <td>-0.479699</td>\n",
       "      <td>-0.593891</td>\n",
       "      <td>-1.280280</td>\n",
       "      <td>0.419662</td>\n",
       "      <td>-0.282240</td>\n",
       "      <td>-1.450597</td>\n",
       "      <td>-0.167024</td>\n",
       "      <td>0.416707</td>\n",
       "      <td>1.359036</td>\n",
       "      <td>0.794614</td>\n",
       "      <td>0.417153</td>\n",
       "    </tr>\n",
       "    <tr>\n",
       "      <th>17304</th>\n",
       "      <td>-0.068898</td>\n",
       "      <td>2.060538</td>\n",
       "      <td>0.378891</td>\n",
       "      <td>-0.443348</td>\n",
       "      <td>0.819841</td>\n",
       "      <td>0.737362</td>\n",
       "      <td>-1.231985</td>\n",
       "      <td>-1.077848</td>\n",
       "      <td>0.467675</td>\n",
       "      <td>-0.850644</td>\n",
       "      <td>-1.126884</td>\n",
       "      <td>-0.400353</td>\n",
       "      <td>0.874703</td>\n",
       "      <td>-0.953919</td>\n",
       "      <td>-0.368047</td>\n",
       "      <td>0.825759</td>\n",
       "      <td>0.032315</td>\n",
       "      <td>-0.624110</td>\n",
       "      <td>1.310819</td>\n",
       "      <td>0.014926</td>\n",
       "    </tr>\n",
       "  </tbody>\n",
       "</table>\n",
       "<p>17305 rows × 20 columns</p>\n",
       "</div>"
      ],
      "text/plain": [
       "             0         1         2         3         4         5         6   \\\n",
       "0      1.994176  1.647957 -0.320648 -0.018530  1.644281  1.654706 -0.418946   \n",
       "1      0.179690 -1.556315 -0.667321  0.496664  1.278283 -0.190090 -1.542351   \n",
       "2     -1.761531  0.373621  2.401497  1.187561  0.080840  0.889657 -0.795106   \n",
       "3      4.370237  0.358001 -1.853959 -1.049786  1.044281 -0.873507 -0.146893   \n",
       "4     -1.463491  1.653907 -1.185821 -1.474459  0.619846  0.503075  0.438901   \n",
       "...         ...       ...       ...       ...       ...       ...       ...   \n",
       "17300 -0.445361  0.370488 -1.023018  2.224175  1.327342  0.735207 -1.032061   \n",
       "17301 -5.298179 -1.601150  0.142269 -0.655532 -0.463096  0.068948 -0.442030   \n",
       "17302  0.904471  2.642567  1.466443 -0.198771  0.119878  0.896915 -0.875021   \n",
       "17303  1.741745 -1.649651 -1.589344 -0.582988  0.875314 -0.898050  1.730846   \n",
       "17304 -0.068898  2.060538  0.378891 -0.443348  0.819841  0.737362 -1.231985   \n",
       "\n",
       "             7         8         9         10        11        12        13  \\\n",
       "0      2.006002  0.817468 -0.409354  0.630931 -0.147655 -1.734418 -0.063653   \n",
       "1      0.102767 -0.861019  0.269216 -0.286321 -0.608524 -0.029253  0.601880   \n",
       "2     -1.064294  0.379663  0.831858 -0.403120 -0.587015  1.289725 -0.973712   \n",
       "3      1.403694 -1.057694  1.052678 -1.168804 -0.817730  0.557494 -0.436561   \n",
       "4      0.306249 -1.458701 -0.102234  0.413903  1.229715  1.122271  0.789153   \n",
       "...         ...       ...       ...       ...       ...       ...       ...   \n",
       "17300 -1.049115  0.426311 -0.359984 -1.354296 -0.149733  0.746856 -0.966841   \n",
       "17301  1.369269  0.464404  0.644704  0.455521 -0.719790 -0.469590  1.143043   \n",
       "17302 -1.053183  0.443737  0.050554 -1.179864 -0.267192  0.728032 -1.133705   \n",
       "17303 -0.322451 -0.769026 -0.479699 -0.593891 -1.280280  0.419662 -0.282240   \n",
       "17304 -1.077848  0.467675 -0.850644 -1.126884 -0.400353  0.874703 -0.953919   \n",
       "\n",
       "             14        15        16        17        18        19  \n",
       "0     -0.962583  0.286701  0.264427 -0.269535 -0.764910 -0.657588  \n",
       "1      1.387568  0.178536 -0.232207  0.777710 -0.010932 -0.383482  \n",
       "2     -0.505674  0.318284 -1.550063 -0.338247 -1.732908  0.817178  \n",
       "3      1.101464  0.312986 -0.053591 -1.275524 -1.442191 -0.198175  \n",
       "4     -0.120488 -0.453877 -1.864088  0.428514 -0.271619  0.007005  \n",
       "...         ...       ...       ...       ...       ...       ...  \n",
       "17300 -0.412759  0.805531  1.275257  0.510393  0.461792 -0.472182  \n",
       "17301 -1.079888  0.541414  0.818034 -0.575405 -1.110635 -0.376032  \n",
       "17302 -0.558201  0.170655  0.553876 -0.872178  0.183719 -0.698763  \n",
       "17303 -1.450597 -0.167024  0.416707  1.359036  0.794614  0.417153  \n",
       "17304 -0.368047  0.825759  0.032315 -0.624110  1.310819  0.014926  \n",
       "\n",
       "[17305 rows x 20 columns]"
      ]
     },
     "execution_count": 194,
     "metadata": {},
     "output_type": "execute_result"
    }
   ],
   "source": [
    "BigPipe = Pipeline(steps=[('ss',StandardScaler()),\n",
    "                          ('pca',PCA(n_components=20\n",
    "                                    ))])\n",
    "\n",
    "pd.DataFrame(BigPipe.fit_transform(X_train))"
   ]
  },
  {
   "cell_type": "code",
   "execution_count": 196,
   "id": "fc3e77ef",
   "metadata": {},
   "outputs": [
    {
     "name": "stdout",
     "output_type": "stream",
     "text": [
      "cv = 0.7657902340364056 , train = 1.0\n"
     ]
    }
   ],
   "source": [
    "pipe_rfc1= Pipeline(steps=[('BP',BigPipe),\n",
    "                            ('rfc',RandomForestClassifier(random_state=3))])\n",
    "\n",
    "pipe_rfc1.fit(X_train, y_train)\n",
    "get_scores(pipe_rfc1,X_train,y_train)"
   ]
  },
  {
   "cell_type": "markdown",
   "id": "0b92b2da",
   "metadata": {},
   "source": [
    "Similiar to manually reducing the features the model accuracy is good but the accuracy is still about a percent less than the \"Kitchen Sink\" method.  \n",
    "\n",
    "Running the model itself isn't too time consuming so I will be prioritizing keeping the better performing model over this modeling that may be quicker due to PCA."
   ]
  },
  {
   "cell_type": "code",
   "execution_count": null,
   "id": "7ab00194",
   "metadata": {},
   "outputs": [],
   "source": []
  }
 ],
 "metadata": {
  "kernelspec": {
   "display_name": "Python 3 (ipykernel)",
   "language": "python",
   "name": "python3"
  },
  "language_info": {
   "codemirror_mode": {
    "name": "ipython",
    "version": 3
   },
   "file_extension": ".py",
   "mimetype": "text/x-python",
   "name": "python",
   "nbconvert_exporter": "python",
   "pygments_lexer": "ipython3",
   "version": "3.9.7"
  }
 },
 "nbformat": 4,
 "nbformat_minor": 5
}
